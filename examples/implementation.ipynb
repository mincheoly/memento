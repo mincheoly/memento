{
 "cells": [
  {
   "cell_type": "markdown",
   "id": "40bab305-7e7b-43e9-b50f-9f8ab55cbf97",
   "metadata": {},
   "source": [
    "# Implementation\n"
   ]
  },
  {
   "cell_type": "code",
   "execution_count": 1,
   "id": "1147bfbf-e294-4915-bed1-d4fc597ba671",
   "metadata": {},
   "outputs": [],
   "source": [
    "%load_ext autoreload"
   ]
  },
  {
   "cell_type": "code",
   "execution_count": 2,
   "id": "94976ec3-b481-49bc-8a54-daacb02c30d7",
   "metadata": {},
   "outputs": [],
   "source": [
    "%autoreload 2\n"
   ]
  },
  {
   "cell_type": "code",
   "execution_count": 3,
   "id": "4790b562-7a32-4352-8429-d3fe948a307d",
   "metadata": {},
   "outputs": [],
   "source": [
    "import sys\n",
    "sys.path.append('/home/ssm-user/Github/memento')"
   ]
  },
  {
   "cell_type": "code",
   "execution_count": 4,
   "id": "4c449f09-bbc2-4f82-8ec8-73312efdbb7d",
   "metadata": {},
   "outputs": [],
   "source": [
    "import scanpy as sc\n",
    "import scipy.stats as stats\n",
    "import scipy.sparse as sparse\n",
    "import pandas as pd\n",
    "import numpy as np\n",
    "import string\n",
    "import random\n",
    "import logging"
   ]
  },
  {
   "cell_type": "code",
   "execution_count": 5,
   "id": "fd5ad0ab-dc99-468f-b68a-53d900ea965d",
   "metadata": {},
   "outputs": [],
   "source": [
    "import memento"
   ]
  },
  {
   "cell_type": "code",
   "execution_count": 6,
   "id": "476448fd-509d-45c5-ba4e-d0462339668f",
   "metadata": {},
   "outputs": [],
   "source": [
    "from memento import model"
   ]
  },
  {
   "cell_type": "code",
   "execution_count": 7,
   "id": "29e02c85-6087-415a-a98c-d8fd83d04ee1",
   "metadata": {},
   "outputs": [],
   "source": [
    "import memento.model.rna as rna"
   ]
  },
  {
   "cell_type": "code",
   "execution_count": 8,
   "id": "f434fd26-f430-47a8-b854-8736f03033f4",
   "metadata": {},
   "outputs": [],
   "source": [
    "data_path = '/data_volume/memento/'"
   ]
  },
  {
   "cell_type": "markdown",
   "id": "770c52cc-388c-48ff-b293-c854c498bb96",
   "metadata": {},
   "source": [
    "### Read some data"
   ]
  },
  {
   "cell_type": "code",
   "execution_count": 9,
   "id": "a1e95ec9-9e5c-460c-9073-c931cdbbf55d",
   "metadata": {},
   "outputs": [],
   "source": [
    "adata = sc.read(data_path + 'hbec/HBEC_type_I_filtered_counts_deep.h5ad')\n",
    "adata.obs['q'] = 0.07"
   ]
  },
  {
   "cell_type": "code",
   "execution_count": 11,
   "id": "ec8dbbfd-260b-493f-af1c-51009866c7d1",
   "metadata": {},
   "outputs": [],
   "source": [
    "logging.basicConfig(\n",
    "    format=\"%(asctime)s %(process)-7s %(levelname)-8s %(message)s\",\n",
    "    level=logging.INFO, \n",
    "    datefmt=\"%Y-%m-%d %H:%M:%S\",\n",
    ")\n",
    "logging.captureWarnings(True)"
   ]
  },
  {
   "cell_type": "code",
   "execution_count": 12,
   "id": "e87fd159-f535-41c5-8e88-34189bb18a8b",
   "metadata": {},
   "outputs": [
    {
     "name": "stderr",
     "output_type": "stream",
     "text": [
      "2023-06-21 21:41:11 1479166 INFO     setup_anndata: creating groups\n",
      "2023-06-21 21:41:13 1479166 INFO     setup_anndata: computing cell sizes\n"
     ]
    }
   ],
   "source": [
    "rna.MementoRNA.setup_anndata(\n",
    "    adata=adata,\n",
    "    q_column='q',\n",
    "    label_columns=['donor', 'stim'])"
   ]
  },
  {
   "cell_type": "code",
   "execution_count": 48,
   "id": "831038ed-bd84-45e3-9850-72ac73d459d1",
   "metadata": {},
   "outputs": [],
   "source": [
    "rna.MementoRNA.create_groups(\n",
    "    adata=adata,\n",
    "    label_columns=['stim'])"
   ]
  },
  {
   "cell_type": "code",
   "execution_count": 28,
   "id": "7b1b5883-cfd5-4a14-9349-f3c2c0868273",
   "metadata": {},
   "outputs": [],
   "source": [
    "rna.MementoRNA.compute_cell_size(adata, use_raw=False)"
   ]
  },
  {
   "cell_type": "code",
   "execution_count": 20,
   "id": "293674b6-0872-4ce0-90c1-1f25a970febe",
   "metadata": {},
   "outputs": [
    {
     "data": {
      "text/plain": [
       "9604.0"
      ]
     },
     "execution_count": 20,
     "metadata": {},
     "output_type": "execute_result"
    }
   ],
   "source": [
    "np.median(adata.X.sum(axis=1).A1)"
   ]
  },
  {
   "cell_type": "code",
   "execution_count": 22,
   "id": "04998c12-c498-4f2f-80d4-d0ccd72364a3",
   "metadata": {},
   "outputs": [],
   "source": [
    "adata.layers['counts'] = adata.X.copy()"
   ]
  },
  {
   "cell_type": "code",
   "execution_count": 23,
   "id": "e3cf6a43-ed02-48a5-ae56-b470c5b1460a",
   "metadata": {},
   "outputs": [],
   "source": [
    "adata.raw = adata"
   ]
  },
  {
   "cell_type": "code",
   "execution_count": 24,
   "id": "5dbdb164-4bad-43dc-9cff-e77bc63f5152",
   "metadata": {},
   "outputs": [],
   "source": [
    "adata = adata[:, ['STAT1', 'STAT3']]"
   ]
  },
  {
   "cell_type": "markdown",
   "id": "3d287f62-df4c-4bbe-83bd-1729cccd0809",
   "metadata": {},
   "source": [
    "### Generate multi-index Pandas DataFrame"
   ]
  },
  {
   "cell_type": "code",
   "execution_count": null,
   "id": "c85cd648-a0eb-4ab1-8696-3348f9729c29",
   "metadata": {},
   "outputs": [
    {
     "data": {
      "text/plain": [
       "AnnData object with n_obs × n_vars = 69958 × 36601\n",
       "    obs: 'NUM.SNPS', 'BEST.GUESS', 'DROPLET.TYPE', 'batch', 'HTO_classification', 'condition', 'donor', 'stim', 'time', 'n_genes', 'n_genes_by_counts', 'total_counts', 'total_counts_mt', 'pct_counts_mt', 'leiden', 'cell_type'\n",
       "    var: 'gene_ids', 'feature_types', 'genome', 'mt', 'n_cells_by_counts', 'mean_counts', 'pct_dropout_by_counts', 'total_counts'"
      ]
     },
     "execution_count": 13,
     "metadata": {},
     "output_type": "execute_result"
    }
   ],
   "source": [
    "adata"
   ]
  }
 ],
 "metadata": {
  "kernelspec": {
   "display_name": "Python (single_cell)",
   "language": "python",
   "name": "single_cell"
  },
  "language_info": {
   "codemirror_mode": {
    "name": "ipython",
    "version": 3
   },
   "file_extension": ".py",
   "mimetype": "text/x-python",
   "name": "python",
   "nbconvert_exporter": "python",
   "pygments_lexer": "ipython3",
   "version": "3.10.11"
  }
 },
 "nbformat": 4,
 "nbformat_minor": 5
}
