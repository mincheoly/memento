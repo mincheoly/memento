{
 "cells": [
  {
   "cell_type": "markdown",
   "id": "40bab305-7e7b-43e9-b50f-9f8ab55cbf97",
   "metadata": {},
   "source": [
    "# Implementation\n"
   ]
  },
  {
   "cell_type": "code",
   "execution_count": 2,
   "id": "1147bfbf-e294-4915-bed1-d4fc597ba671",
   "metadata": {},
   "outputs": [],
   "source": [
    "%load_ext autoreload"
   ]
  },
  {
   "cell_type": "code",
   "execution_count": 3,
   "id": "94976ec3-b481-49bc-8a54-daacb02c30d7",
   "metadata": {},
   "outputs": [],
   "source": [
    "%autoreload 2\n"
   ]
  },
  {
   "cell_type": "code",
   "execution_count": 4,
   "id": "4790b562-7a32-4352-8429-d3fe948a307d",
   "metadata": {},
   "outputs": [],
   "source": [
    "import sys\n",
    "sys.path.append('/home/ssm-user/Github/memento')"
   ]
  },
  {
   "cell_type": "code",
   "execution_count": 5,
   "id": "4c449f09-bbc2-4f82-8ec8-73312efdbb7d",
   "metadata": {},
   "outputs": [],
   "source": [
    "import scanpy as sc\n",
    "import scipy.stats as stats\n",
    "import scipy.sparse as sparse\n",
    "import pandas as pd\n",
    "import numpy as np\n",
    "import string\n",
    "import random\n",
    "import logging\n",
    "import itertools\n",
    "import statsmodels.api as sm\n",
    "import statsmodels.formula.api as smf\n",
    "import seaborn as sns\n",
    "import random\n",
    "from sklearn.linear_model import LinearRegression\n",
    "import matplotlib.pyplot as plt\n",
    "from pymare import core, estimators\n"
   ]
  },
  {
   "cell_type": "code",
   "execution_count": 5,
   "id": "fd5ad0ab-dc99-468f-b68a-53d900ea965d",
   "metadata": {},
   "outputs": [],
   "source": [
    "import memento"
   ]
  },
  {
   "cell_type": "code",
   "execution_count": 6,
   "id": "29e02c85-6087-415a-a98c-d8fd83d04ee1",
   "metadata": {},
   "outputs": [],
   "source": [
    "import memento.model.rna as rna\n",
    "import memento.estimator.hypergeometric as hg"
   ]
  },
  {
   "cell_type": "code",
   "execution_count": 7,
   "id": "f434fd26-f430-47a8-b854-8736f03033f4",
   "metadata": {},
   "outputs": [],
   "source": [
    "data_path = '/data_volume/memento/'"
   ]
  },
  {
   "cell_type": "code",
   "execution_count": 1,
   "id": "db25d089-9866-4f19-8a06-8ffeda1cce8c",
   "metadata": {},
   "outputs": [
    {
     "ename": "NameError",
     "evalue": "name 'sc' is not defined",
     "output_type": "error",
     "traceback": [
      "\u001b[0;31m---------------------------------------------------------------------------\u001b[0m",
      "\u001b[0;31mNameError\u001b[0m                                 Traceback (most recent call last)",
      "Cell \u001b[0;32mIn[1], line 1\u001b[0m\n\u001b[0;32m----> 1\u001b[0m adata \u001b[38;5;241m=\u001b[39m \u001b[43msc\u001b[49m\u001b[38;5;241m.\u001b[39mread(data_path \u001b[38;5;241m+\u001b[39m \u001b[38;5;124m'\u001b[39m\u001b[38;5;124mhbec/HBEC_type_I_filtered_counts_deep.h5ad\u001b[39m\u001b[38;5;124m'\u001b[39m)\n",
      "\u001b[0;31mNameError\u001b[0m: name 'sc' is not defined"
     ]
    }
   ],
   "source": [
    "adata = sc.read(data_path + 'hbec/HBEC_type_I_filtered_counts_deep.h5ad')"
   ]
  },
  {
   "cell_type": "code",
   "execution_count": 66,
   "id": "91ea9064-7294-4382-ab2e-aa8b1f5486c7",
   "metadata": {},
   "outputs": [],
   "source": [
    "mean_filter = adata.X.mean(axis=0).A1>0.5\n",
    "mt_filter  =~adata.var.index.str.contains('MT-')\n",
    "gene_filter = mean_filter & mt_filter"
   ]
  },
  {
   "cell_type": "code",
   "execution_count": 67,
   "id": "787b4217-7031-4a08-b612-dee2cb04ce42",
   "metadata": {},
   "outputs": [],
   "source": [
    "adata = adata[\n",
    "    (adata.obs['donor'] == 'd2513') &\\\n",
    "    adata.obs['stim'].isin(['control', 'beta']) & \\\n",
    "    adata.obs['cell_type'].isin(['ciliated']), gene_filter]"
   ]
  },
  {
   "cell_type": "code",
   "execution_count": 69,
   "id": "6c8abe5b-8810-4e9e-aea8-9c79a2e8c8b2",
   "metadata": {},
   "outputs": [],
   "source": [
    "adata.write('toy_hbec.h5ad')"
   ]
  },
  {
   "cell_type": "code",
   "execution_count": 8,
   "id": "230aecf1-b7a4-4922-a539-2d280eed1566",
   "metadata": {},
   "outputs": [],
   "source": [
    "logging.basicConfig(\n",
    "    format=\"%(asctime)s %(process)-7s %(levelname)-8s %(message)s\",\n",
    "    level=logging.INFO, \n",
    "    datefmt=\"%Y-%m-%d %H:%M:%S\",\n",
    ")\n",
    "logging.captureWarnings(True)"
   ]
  },
  {
   "cell_type": "markdown",
   "id": "9d7fd01c-6c77-4a25-905f-f04a87ac8540",
   "metadata": {},
   "source": [
    "### Check normality"
   ]
  },
  {
   "cell_type": "code",
   "execution_count": 38,
   "id": "b5548387-6a21-4c8c-b5d2-8ea0261e73c7",
   "metadata": {},
   "outputs": [
    {
     "name": "stderr",
     "output_type": "stream",
     "text": [
      "2023-07-03 11:45:45 2115560 INFO     setup_anndata: creating groups\n",
      "2023-07-03 11:45:45 2115560 INFO     setup_anndata: computing cell sizes\n"
     ]
    }
   ],
   "source": [
    "adata = sc.read(data_path + 'hbec/HBEC_type_I_filtered_counts_deep.h5ad')\n",
    "adata.obs['q'] = 0.07\n",
    "rna.MementoRNA.setup_anndata(\n",
    "    adata=adata,\n",
    "    q_column='q',\n",
    "    label_columns=['donor', 'stim'],\n",
    "    num_bins=30)\n",
    "\n",
    "# Define expressed genes\n",
    "adata.var['expr_genes'] = (adata.X.mean(axis=0).A1 > 0.02)\n",
    "adata = adata[:, adata.var['expr_genes']]\n",
    "\n",
    "\n",
    "\n",
    "model = rna.MementoRNA(adata=adata)"
   ]
  },
  {
   "cell_type": "code",
   "execution_count": 40,
   "id": "d08e16a7-94ce-433d-98bb-55d3a114a4af",
   "metadata": {},
   "outputs": [],
   "source": [
    "barcodes = adata.uns['memento']['group_barcodes']['memento_group^d2513^alpha']\n",
    "genes = adata.var.index.tolist()"
   ]
  },
  {
   "cell_type": "code",
   "execution_count": null,
   "id": "eb240600-8b99-4930-be36-9b5262da7d15",
   "metadata": {},
   "outputs": [],
   "source": [
    "for idx, gene in enumerate(genes):\n",
    "    \n",
    "    "
   ]
  },
  {
   "cell_type": "code",
   "execution_count": 30,
   "id": "a8daa409-669e-4740-a170-b5d7e6202872",
   "metadata": {},
   "outputs": [],
   "source": [
    "x = stats.poisson.rvs(mu=5, size=1000)"
   ]
  },
  {
   "cell_type": "code",
   "execution_count": 31,
   "id": "53475680-194b-4e8b-bfef-4dd203c91251",
   "metadata": {},
   "outputs": [
    {
     "data": {
      "text/plain": [
       "KstestResult(statistic=0.9422498680518208, pvalue=0.0, statistic_location=2, statistic_sign=-1)"
      ]
     },
     "execution_count": 31,
     "metadata": {},
     "output_type": "execute_result"
    }
   ],
   "source": [
    "stats.kstest(x, 'norm')"
   ]
  },
  {
   "cell_type": "markdown",
   "id": "e0fb0ed7-e6d0-4301-9656-5baab690b5be",
   "metadata": {},
   "source": [
    "### Read some data"
   ]
  },
  {
   "cell_type": "code",
   "execution_count": 9,
   "id": "a1e95ec9-9e5c-460c-9073-c931cdbbf55d",
   "metadata": {},
   "outputs": [],
   "source": [
    "adata = sc.read(data_path + 'hbec/HBEC_type_I_filtered_counts_deep.h5ad')\n",
    "adata.obs['q'] = 0.07"
   ]
  },
  {
   "cell_type": "code",
   "execution_count": 10,
   "id": "e87fd159-f535-41c5-8e88-34189bb18a8b",
   "metadata": {},
   "outputs": [
    {
     "name": "stderr",
     "output_type": "stream",
     "text": [
      "2023-07-03 11:15:13 2115560 INFO     setup_anndata: creating groups\n",
      "2023-07-03 11:15:13 2115560 INFO     setup_anndata: computing cell sizes\n"
     ]
    }
   ],
   "source": []
  },
  {
   "cell_type": "code",
   "execution_count": 11,
   "id": "93b8069f-09c5-4957-b8ef-04200dd29f1c",
   "metadata": {},
   "outputs": [],
   "source": [
    "# Define expressed genes\n",
    "adata.var['expr_genes'] = (adata.X.mean(axis=0).A1 > 0.02)\n",
    "adata = adata[:, adata.var['expr_genes']]"
   ]
  },
  {
   "cell_type": "code",
   "execution_count": 26,
   "id": "0f73000f-c1be-40b7-aa50-3d806a84d8bd",
   "metadata": {},
   "outputs": [
    {
     "name": "stderr",
     "output_type": "stream",
     "text": [
      "2023-07-03 11:34:09 2115560 INFO     compute_estimate: running estimators for ['mean', 'log_mean', 'log1p_mean', 'se_mean', 'se_log_mean', 'se_log1p_mean', 'total_umi', 'cell_count']\n",
      "2023-07-03 11:34:09 2115560 INFO     compute_estimate: gene_list is None, using all genes in AnnData object\n",
      "2023-07-03 11:34:09 2115560 INFO     compute_estimate: getting estimates for memento_group^d2513^lambda using 30 parallel jobs\n",
      "[Parallel(n_jobs=30)]: Using backend LokyBackend with 30 concurrent workers.\n",
      "[Parallel(n_jobs=30)]: Done 262 tasks      | elapsed:    0.6s\n",
      "[Parallel(n_jobs=30)]: Done 1260 tasks      | elapsed:    2.8s\n",
      "[Parallel(n_jobs=30)]: Done 1445 out of 1504 | elapsed:    3.2s remaining:    0.1s\n",
      "[Parallel(n_jobs=30)]: Done 1504 out of 1504 | elapsed:    4.5s finished\n",
      "2023-07-03 11:34:14 2115560 INFO     compute_estimate: getting estimates for memento_group^d2513^alpha using 30 parallel jobs\n",
      "[Parallel(n_jobs=30)]: Using backend LokyBackend with 30 concurrent workers.\n",
      "[Parallel(n_jobs=30)]: Done 262 tasks      | elapsed:    0.7s\n",
      "[Parallel(n_jobs=30)]: Done 1260 tasks      | elapsed:    3.0s\n",
      "[Parallel(n_jobs=30)]: Done 1504 out of 1504 | elapsed:    4.8s finished\n",
      "2023-07-03 11:34:19 2115560 INFO     compute_estimate: getting estimates for memento_group^d2614^alpha using 30 parallel jobs\n",
      "[Parallel(n_jobs=30)]: Using backend LokyBackend with 30 concurrent workers.\n",
      "[Parallel(n_jobs=30)]: Done 262 tasks      | elapsed:    0.8s\n",
      "[Parallel(n_jobs=30)]: Done 1260 tasks      | elapsed:    3.4s\n",
      "[Parallel(n_jobs=30)]: Done 1504 out of 1504 | elapsed:    5.2s finished\n",
      "2023-07-03 11:34:25 2115560 INFO     compute_estimate: getting estimates for memento_group^d2614^gamma using 30 parallel jobs\n",
      "[Parallel(n_jobs=30)]: Using backend LokyBackend with 30 concurrent workers.\n",
      "[Parallel(n_jobs=30)]: Done 262 tasks      | elapsed:    0.8s\n",
      "[Parallel(n_jobs=30)]: Done 1260 tasks      | elapsed:    3.2s\n",
      "[Parallel(n_jobs=30)]: Done 1445 out of 1504 | elapsed:    3.7s remaining:    0.2s\n",
      "[Parallel(n_jobs=30)]: Done 1504 out of 1504 | elapsed:    5.0s finished\n",
      "2023-07-03 11:34:30 2115560 INFO     compute_estimate: getting estimates for memento_group^d2513^beta using 30 parallel jobs\n",
      "[Parallel(n_jobs=30)]: Using backend LokyBackend with 30 concurrent workers.\n",
      "[Parallel(n_jobs=30)]: Done 262 tasks      | elapsed:    0.6s\n",
      "[Parallel(n_jobs=30)]: Done 1260 tasks      | elapsed:    2.9s\n",
      "[Parallel(n_jobs=30)]: Done 1445 out of 1504 | elapsed:    3.3s remaining:    0.1s\n",
      "[Parallel(n_jobs=30)]: Done 1504 out of 1504 | elapsed:    4.6s finished\n",
      "2023-07-03 11:34:35 2115560 INFO     compute_estimate: getting estimates for memento_group^d2513^gamma using 30 parallel jobs\n",
      "[Parallel(n_jobs=30)]: Using backend LokyBackend with 30 concurrent workers.\n",
      "[Parallel(n_jobs=30)]: Done 262 tasks      | elapsed:    0.7s\n",
      "[Parallel(n_jobs=30)]: Done 1260 tasks      | elapsed:    3.2s\n",
      "[Parallel(n_jobs=30)]: Done 1445 out of 1504 | elapsed:    3.7s remaining:    0.2s\n",
      "[Parallel(n_jobs=30)]: Done 1504 out of 1504 | elapsed:    5.0s finished\n",
      "2023-07-03 11:34:41 2115560 INFO     compute_estimate: getting estimates for memento_group^d2614^lambda using 30 parallel jobs\n",
      "[Parallel(n_jobs=30)]: Using backend LokyBackend with 30 concurrent workers.\n",
      "[Parallel(n_jobs=30)]: Done 262 tasks      | elapsed:    0.8s\n",
      "[Parallel(n_jobs=30)]: Done 1260 tasks      | elapsed:    3.2s\n",
      "[Parallel(n_jobs=30)]: Done 1445 out of 1504 | elapsed:    3.7s remaining:    0.2s\n",
      "[Parallel(n_jobs=30)]: Done 1504 out of 1504 | elapsed:    5.1s finished\n",
      "2023-07-03 11:34:46 2115560 INFO     compute_estimate: getting estimates for memento_group^d2614^beta using 30 parallel jobs\n",
      "[Parallel(n_jobs=30)]: Using backend LokyBackend with 30 concurrent workers.\n",
      "[Parallel(n_jobs=30)]: Done 262 tasks      | elapsed:    0.8s\n",
      "[Parallel(n_jobs=30)]: Done 1260 tasks      | elapsed:    3.5s\n",
      "[Parallel(n_jobs=30)]: Done 1445 out of 1504 | elapsed:    4.0s remaining:    0.2s\n",
      "[Parallel(n_jobs=30)]: Done 1504 out of 1504 | elapsed:    5.4s finished\n",
      "2023-07-03 11:34:52 2115560 INFO     compute_estimate: getting estimates for memento_group^d2513^control using 30 parallel jobs\n",
      "[Parallel(n_jobs=30)]: Using backend LokyBackend with 30 concurrent workers.\n",
      "[Parallel(n_jobs=30)]: Done 260 tasks      | elapsed:    0.3s\n",
      "[Parallel(n_jobs=30)]: Done 1445 out of 1504 | elapsed:    1.7s remaining:    0.1s\n",
      "[Parallel(n_jobs=30)]: Done 1504 out of 1504 | elapsed:    1.9s finished\n",
      "2023-07-03 11:34:54 2115560 INFO     compute_estimate: getting estimates for memento_group^d2614^control using 30 parallel jobs\n",
      "[Parallel(n_jobs=30)]: Using backend LokyBackend with 30 concurrent workers.\n",
      "[Parallel(n_jobs=30)]: Done 262 tasks      | elapsed:    0.5s\n",
      "[Parallel(n_jobs=30)]: Done 1504 out of 1504 | elapsed:    2.4s finished\n"
     ]
    }
   ],
   "source": [
    "model = rna.MementoRNA(adata=adata)\n",
    "\n",
    "model.compute_estimate(\n",
    "    estimand='mean',\n",
    "    get_se=True,\n",
    "    verbose=1,\n",
    "    n_jobs=30,\n",
    ")"
   ]
  },
  {
   "cell_type": "code",
   "execution_count": null,
   "id": "53010670-d665-4990-a0a3-6f37f4eebce7",
   "metadata": {},
   "outputs": [],
   "source": []
  },
  {
   "cell_type": "code",
   "execution_count": null,
   "id": "7d199bcb-6fb7-4dea-84a0-731a5a7998d5",
   "metadata": {},
   "outputs": [],
   "source": []
  },
  {
   "cell_type": "code",
   "execution_count": 15,
   "id": "c7b0f266-0055-4875-9439-ee1896a3be15",
   "metadata": {},
   "outputs": [],
   "source": [
    "hi"
   ]
  },
  {
   "cell_type": "code",
   "execution_count": 61,
   "id": "129dd73c-89f4-429f-a5db-5a1171491d27",
   "metadata": {},
   "outputs": [
    {
     "data": {
      "text/plain": [
       "3.9986702127659575"
      ]
     },
     "execution_count": 61,
     "metadata": {},
     "output_type": "execute_result"
    }
   ],
   "source": [
    "np.mean([len(x) for x in hi]"
   ]
  },
  {
   "cell_type": "code",
   "execution_count": 59,
   "id": "ab59f154-7147-4e4f-8b7f-2de3949fa652",
   "metadata": {},
   "outputs": [
    {
     "ename": "ValueError",
     "evalue": "not enough values to unpack (expected 4, got 2)",
     "output_type": "error",
     "traceback": [
      "\u001b[0;31m---------------------------------------------------------------------------\u001b[0m",
      "\u001b[0;31mValueError\u001b[0m                                Traceback (most recent call last)",
      "Cell \u001b[0;32mIn[59], line 1\u001b[0m\n\u001b[0;32m----> 1\u001b[0m a, b, c, d \u001b[38;5;241m=\u001b[39m \u001b[38;5;28mzip\u001b[39m(\u001b[38;5;241m*\u001b[39mhi)\n",
      "\u001b[0;31mValueError\u001b[0m: not enough values to unpack (expected 4, got 2)"
     ]
    }
   ],
   "source": [
    "a, b, c, d = zip(*hi)"
   ]
  },
  {
   "cell_type": "code",
   "execution_count": null,
   "id": "1d785e03-bcc8-4ac1-85b7-1fb37b326e53",
   "metadata": {},
   "outputs": [],
   "source": []
  },
  {
   "cell_type": "code",
   "execution_count": 20,
   "id": "c5164ab6-6d63-4e1d-8493-1fc62cc89357",
   "metadata": {},
   "outputs": [
    {
     "data": {
      "text/html": [
       "<div>\n",
       "<style scoped>\n",
       "    .dataframe tbody tr th:only-of-type {\n",
       "        vertical-align: middle;\n",
       "    }\n",
       "\n",
       "    .dataframe tbody tr th {\n",
       "        vertical-align: top;\n",
       "    }\n",
       "\n",
       "    .dataframe thead th {\n",
       "        text-align: right;\n",
       "    }\n",
       "</style>\n",
       "<table border=\"1\" class=\"dataframe\">\n",
       "  <thead>\n",
       "    <tr style=\"text-align: right;\">\n",
       "      <th></th>\n",
       "      <th>total_umi</th>\n",
       "    </tr>\n",
       "  </thead>\n",
       "  <tbody>\n",
       "    <tr>\n",
       "      <th>memento_group^d2513^lambda</th>\n",
       "      <td>54640868.0</td>\n",
       "    </tr>\n",
       "    <tr>\n",
       "      <th>memento_group^d2513^alpha</th>\n",
       "      <td>61163952.0</td>\n",
       "    </tr>\n",
       "    <tr>\n",
       "      <th>memento_group^d2614^alpha</th>\n",
       "      <td>82624576.0</td>\n",
       "    </tr>\n",
       "    <tr>\n",
       "      <th>memento_group^d2614^gamma</th>\n",
       "      <td>62066392.0</td>\n",
       "    </tr>\n",
       "    <tr>\n",
       "      <th>memento_group^d2513^beta</th>\n",
       "      <td>68844056.0</td>\n",
       "    </tr>\n",
       "    <tr>\n",
       "      <th>memento_group^d2513^gamma</th>\n",
       "      <td>72729384.0</td>\n",
       "    </tr>\n",
       "    <tr>\n",
       "      <th>memento_group^d2614^lambda</th>\n",
       "      <td>63414112.0</td>\n",
       "    </tr>\n",
       "    <tr>\n",
       "      <th>memento_group^d2614^beta</th>\n",
       "      <td>77736736.0</td>\n",
       "    </tr>\n",
       "    <tr>\n",
       "      <th>memento_group^d2513^control</th>\n",
       "      <td>7276869.0</td>\n",
       "    </tr>\n",
       "    <tr>\n",
       "      <th>memento_group^d2614^control</th>\n",
       "      <td>13757338.0</td>\n",
       "    </tr>\n",
       "  </tbody>\n",
       "</table>\n",
       "</div>"
      ],
      "text/plain": [
       "                              total_umi\n",
       "memento_group^d2513^lambda   54640868.0\n",
       "memento_group^d2513^alpha    61163952.0\n",
       "memento_group^d2614^alpha    82624576.0\n",
       "memento_group^d2614^gamma    62066392.0\n",
       "memento_group^d2513^beta     68844056.0\n",
       "memento_group^d2513^gamma    72729384.0\n",
       "memento_group^d2614^lambda   63414112.0\n",
       "memento_group^d2614^beta     77736736.0\n",
       "memento_group^d2513^control   7276869.0\n",
       "memento_group^d2614^control  13757338.0"
      ]
     },
     "execution_count": 20,
     "metadata": {},
     "output_type": "execute_result"
    }
   ],
   "source": [
    "model.estimates['total_umi']"
   ]
  },
  {
   "cell_type": "code",
   "execution_count": null,
   "id": "7b41e059-0b5b-41b7-8b39-03b629570787",
   "metadata": {},
   "outputs": [],
   "source": []
  },
  {
   "cell_type": "code",
   "execution_count": null,
   "id": "7e66c3d0-cf55-4cbc-aee1-4e99bcd77ee2",
   "metadata": {},
   "outputs": [],
   "source": []
  },
  {
   "cell_type": "code",
   "execution_count": null,
   "id": "b7fb6892-78a2-4837-a7cf-83312a96e742",
   "metadata": {},
   "outputs": [],
   "source": []
  },
  {
   "cell_type": "code",
   "execution_count": null,
   "id": "0356001f-1756-4bb5-9127-17a8db22da9d",
   "metadata": {},
   "outputs": [],
   "source": []
  },
  {
   "cell_type": "markdown",
   "id": "2dd61eba-acbf-4b8d-9e42-8dfbbb7e7661",
   "metadata": {},
   "source": [
    "### Bootstrapping vs WLS"
   ]
  },
  {
   "cell_type": "code",
   "execution_count": null,
   "id": "7909df3e-238a-4a0e-99d4-19bff05d954b",
   "metadata": {},
   "outputs": [],
   "source": [
    "x1 = stats.norm.rvs(loc=5, scale=1, size=1000)\n",
    "x2 = stats.norm.rvs(loc=2, scale=3, size=1000)"
   ]
  },
  {
   "cell_type": "code",
   "execution_count": null,
   "id": "66c6c23b-2c49-4286-9ea4-d7e123c440c2",
   "metadata": {},
   "outputs": [],
   "source": [
    "dataset = core.Dataset(y=[x1.mean(), x2.mean()], X=[0, 1], v=[x1.var(), x2.var()])"
   ]
  },
  {
   "cell_type": "code",
   "execution_count": null,
   "id": "98e3046a-9215-4e37-b1dc-ed33a29b9dea",
   "metadata": {},
   "outputs": [
    {
     "data": {
      "text/html": [
       "<div>\n",
       "<style scoped>\n",
       "    .dataframe tbody tr th:only-of-type {\n",
       "        vertical-align: middle;\n",
       "    }\n",
       "\n",
       "    .dataframe tbody tr th {\n",
       "        vertical-align: top;\n",
       "    }\n",
       "\n",
       "    .dataframe thead th {\n",
       "        text-align: right;\n",
       "    }\n",
       "</style>\n",
       "<table border=\"1\" class=\"dataframe\">\n",
       "  <thead>\n",
       "    <tr style=\"text-align: right;\">\n",
       "      <th></th>\n",
       "      <th>name</th>\n",
       "      <th>estimate</th>\n",
       "      <th>se</th>\n",
       "      <th>z-score</th>\n",
       "      <th>p-value</th>\n",
       "      <th>ci_0.025</th>\n",
       "      <th>ci_0.975</th>\n",
       "    </tr>\n",
       "  </thead>\n",
       "  <tbody>\n",
       "    <tr>\n",
       "      <th>0</th>\n",
       "      <td>intercept</td>\n",
       "      <td>5.016460</td>\n",
       "      <td>1.013819</td>\n",
       "      <td>4.948083</td>\n",
       "      <td>7.494781e-07</td>\n",
       "      <td>3.029412</td>\n",
       "      <td>7.003509</td>\n",
       "    </tr>\n",
       "    <tr>\n",
       "      <th>1</th>\n",
       "      <td>0</td>\n",
       "      <td>-2.897297</td>\n",
       "      <td>3.148807</td>\n",
       "      <td>-0.920125</td>\n",
       "      <td>3.575073e-01</td>\n",
       "      <td>-9.068845</td>\n",
       "      <td>3.274252</td>\n",
       "    </tr>\n",
       "  </tbody>\n",
       "</table>\n",
       "</div>"
      ],
      "text/plain": [
       "        name  estimate        se   z-score       p-value  ci_0.025  ci_0.975\n",
       "0  intercept  5.016460  1.013819  4.948083  7.494781e-07  3.029412  7.003509\n",
       "1          0 -2.897297  3.148807 -0.920125  3.575073e-01 -9.068845  3.274252"
      ]
     },
     "execution_count": 90,
     "metadata": {},
     "output_type": "execute_result"
    }
   ],
   "source": [
    "estimators.WeightedLeastSquares().fit_dataset(dataset).summary().to_df()"
   ]
  },
  {
   "cell_type": "code",
   "execution_count": null,
   "id": "646e4dab-23b8-42de-a938-8d8e928c5836",
   "metadata": {},
   "outputs": [
    {
     "data": {
      "text/plain": [
       "3.148807069752963"
      ]
     },
     "execution_count": 94,
     "metadata": {},
     "output_type": "execute_result"
    }
   ],
   "source": [
    "np.sqrt(x1.var()+x2.var())"
   ]
  },
  {
   "cell_type": "code",
   "execution_count": null,
   "id": "cd88c7e7-1a0b-48f4-ab70-ef3e34febffc",
   "metadata": {},
   "outputs": [
    {
     "data": {
      "text/plain": [
       "nan"
      ]
     },
     "execution_count": 61,
     "metadata": {},
     "output_type": "execute_result"
    }
   ],
   "source": [
    "np.log(np.nan)"
   ]
  },
  {
   "cell_type": "code",
   "execution_count": null,
   "id": "27f694a5-80ab-4efb-b8f2-54df55e06b57",
   "metadata": {},
   "outputs": [
    {
     "data": {
      "text/plain": [
       "3.1622776601683795"
      ]
     },
     "execution_count": 91,
     "metadata": {},
     "output_type": "execute_result"
    }
   ],
   "source": [
    "np.sqrt(1+3**2)"
   ]
  },
  {
   "cell_type": "markdown",
   "id": "0cfe43a0-4013-4675-b47a-35f43297cc07",
   "metadata": {},
   "source": [
    "### Bootstrap"
   ]
  },
  {
   "cell_type": "code",
   "execution_count": null,
   "id": "a58bbfd8-4933-43ee-8dc5-d1eeff02c940",
   "metadata": {},
   "outputs": [],
   "source": [
    "def unique_expr(expr, size_factor):\n",
    "    \"\"\"\n",
    "        Find (approximately) unique combinations of expression values and size factors.\n",
    "        The random component is for mapping (expr, size_factor) to a single number.\n",
    "        This can certainly be performed more efficiently using sparsity.\n",
    "    \"\"\"\n",
    "\n",
    "    code = expr.dot(np.random.random(expr.shape[1]))\n",
    "    approx_sf = size_factor\n",
    "\n",
    "    code += np.random.random() * approx_sf\n",
    "\n",
    "    _, index, count = np.unique(code, return_index=True, return_counts=True)\n",
    "\n",
    "    expr_to_return = expr[index].toarray()\n",
    "\n",
    "    return (\n",
    "        approx_sf[index].reshape(-1,1),\n",
    "        1 / approx_sf[index].reshape(-1, 1), \n",
    "        1 / approx_sf[index].reshape(-1, 1) ** 2, \n",
    "        expr_to_return, \n",
    "        count)"
   ]
  },
  {
   "cell_type": "code",
   "execution_count": null,
   "id": "8e836adc-5280-4060-b866-ef4da72a5d7b",
   "metadata": {},
   "outputs": [],
   "source": [
    "X = sparse.csc_matrix(np.random.randint(0, 100, size=(100, 10)))\n",
    "size_factor = stats.poisson.rvs(1000, size=100)\n",
    "n_obs = X.shape[0]"
   ]
  },
  {
   "cell_type": "code",
   "execution_count": null,
   "id": "6f551c28-a769-4b2e-b9d0-3ba9d8e8c4b9",
   "metadata": {},
   "outputs": [],
   "source": [
    "sf, inverse_size_factor, inv_sf_sq, expr, counts = unique_expr(X, size_factor)\n",
    "gen = np.random.Generator(np.random.PCG64(5))\n",
    "gene_rvs = gen.multinomial(n_obs, counts / counts.sum(), size=100).T"
   ]
  },
  {
   "cell_type": "code",
   "execution_count": null,
   "id": "3d57a33f-eb7c-4c0b-8916-21830432aa73",
   "metadata": {},
   "outputs": [],
   "source": [
    "hi = [(1, 2), (3, 4), (5, 10)]\n"
   ]
  },
  {
   "cell_type": "code",
   "execution_count": null,
   "id": "c904d88a-0401-4964-bb26-6512c08ccd92",
   "metadata": {},
   "outputs": [],
   "source": [
    "x1 = (expr*gene_rvs*inverse_size_factor).sum(axis=0)/n_obs"
   ]
  },
  {
   "cell_type": "code",
   "execution_count": null,
   "id": "5721093a-a73d-4c16-b10a-583e8fa5bde1",
   "metadata": {},
   "outputs": [],
   "source": [
    "x2 = (expr*gene_rvs).sum(axis=0)/(sf*gene_rvs).sum(axis=0)"
   ]
  },
  {
   "cell_type": "code",
   "execution_count": null,
   "id": "f526229a-88bb-4746-8e57-42890f6f9f9c",
   "metadata": {},
   "outputs": [
    {
     "data": {
      "text/plain": [
       "<matplotlib.collections.PathCollection at 0x7f8bcaec76a0>"
      ]
     },
     "execution_count": 53,
     "metadata": {},
     "output_type": "execute_result"
    },
    {
     "data": {
      "image/png": "[encoded data removed]",
      "text/plain": [
       "<Figure size 640x480 with 1 Axes>"
      ]
     },
     "metadata": {},
     "output_type": "display_data"
    }
   ],
   "source": [
    "plt.scatter(x1, x2)"
   ]
  },
  {
   "cell_type": "code",
   "execution_count": null,
   "id": "14c69b0d-b9c2-4595-ad4e-eeeabbf323eb",
   "metadata": {},
   "outputs": [],
   "source": [
    "d"
   ]
  },
  {
   "cell_type": "code",
   "execution_count": null,
   "id": "9ebf7b47-d926-4ad8-b16d-31aeff7808d1",
   "metadata": {},
   "outputs": [
    {
     "data": {
      "text/plain": [
       "array([[ 0,  0,  0, ...,  0,  0,  0],\n",
       "       [12, 12, 12, ..., 12, 12, 12],\n",
       "       [ 5,  5,  5, ...,  5,  5,  5],\n",
       "       ...,\n",
       "       [58, 58, 58, ..., 58, 58, 58],\n",
       "       [87, 87, 87, ..., 87, 87, 87],\n",
       "       [95, 95, 95, ..., 95, 95, 95]])"
      ]
     },
     "execution_count": 19,
     "metadata": {},
     "output_type": "execute_result"
    }
   ],
   "source": [
    "d*e"
   ]
  },
  {
   "cell_type": "markdown",
   "id": "4b2fb978-5e47-4ad5-8faf-b4ba051330e0",
   "metadata": {
    "tags": []
   },
   "source": [
    "### Pseudobulk vs WLS vs LMM"
   ]
  },
  {
   "cell_type": "code",
   "execution_count": null,
   "id": "fcbcddfe-7bae-4492-b475-ee3e746c42b2",
   "metadata": {},
   "outputs": [],
   "source": [
    "num_ind = 10\n",
    "num_cell_per_ind = 100\n",
    "beta_geno = 1\n",
    "beta_age = 1\n",
    "ind_intercepts = stats.norm.rvs(scale=2, size=num_ind)\n",
    "ind_variances = np.exp(stats.norm.rvs(scale=1, size=num_ind))\n",
    "intercept = 10\n",
    "geno = np.array([0 for i in range(int(num_ind/2))] + [1 for i in range(int(num_ind/2))])\n",
    "age = stats.norm.rvs(scale=10, loc=30, size=num_ind)"
   ]
  },
  {
   "cell_type": "code",
   "execution_count": null,
   "id": "6d304f88-c6ea-4b14-8135-ca9acecffb2e",
   "metadata": {},
   "outputs": [
    {
     "name": "stdout",
     "output_type": "stream",
     "text": [
      "0\n",
      "1\n",
      "2\n",
      "3\n",
      "4\n",
      "5\n",
      "6\n",
      "7\n",
      "8\n",
      "9\n",
      "10\n",
      "11\n",
      "12\n",
      "13\n",
      "14\n",
      "15\n",
      "16\n",
      "17\n",
      "18\n",
      "19\n"
     ]
    }
   ],
   "source": [
    "num_trial = 50\n",
    "num_effect_size = 20\n",
    "\n",
    "lm_power = np.zeros(num_effect_size)\n",
    "lmm_power = np.zeros(num_effect_size)\n",
    "pseudobulk_power = np.zeros(num_effect_size)\n",
    "wls_power = np.zeros(num_effect_size)\n",
    "effect_sizes = np.linspace(0, 4, num_effect_size)\n",
    "\n",
    "for jdx, effect_size in enumerate(effect_sizes):#enumerate(np.linspace(0.1, 2, num_effect_size)):\n",
    "    \n",
    "    print(jdx)\n",
    "    lm_pv = np.zeros(num_trial)\n",
    "    lmm_pv = np.zeros(num_trial)\n",
    "    pseudob_pv = np.zeros(num_trial)\n",
    "    wls_pv = np.zeros(num_trial)\n",
    "\n",
    "    for idx in range(num_trial):\n",
    "\n",
    "        data = []\n",
    "        for ind in range(num_ind):\n",
    "            mu = intercept+effect_size*geno[ind]+beta_age*age[ind]+ind_intercepts[ind]\n",
    "            data.append(stats.norm.rvs(loc=mu, scale=np.sqrt(ind_variances[ind]), size=num_cell_per_ind))\n",
    "\n",
    "        df = pd.DataFrame()\n",
    "        df['expr'] = np.concatenate(data)\n",
    "        df['geno'] = np.repeat(geno, num_cell_per_ind)\n",
    "        df['age'] = np.repeat(age, num_cell_per_ind)\n",
    "        df['ind'] = ['donor_' + str(x) for x in np.repeat(range(num_ind), num_cell_per_ind)]\n",
    "        dummy_df = pd.get_dummies(df, drop_first=True)\n",
    "\n",
    "        pseudobulks = df.groupby('ind').agg({'expr':['mean', 'var'], 'geno':'mean', 'age':'mean'})\n",
    "        pseudobulks.columns = ['expr', 'var', 'geno', 'age']\n",
    "\n",
    "        lm_pv[idx] = smf.ols(\"expr ~ geno + age\", df).fit().pvalues['geno']\n",
    "        lmm_pv[idx] = smf.mixedlm(\"expr ~ geno + age\", df, groups=df[\"ind\"]).fit().pvalues['geno']\n",
    "        pb_model = smf.ols(\"expr ~ geno + age\", pseudobulks).fit()\n",
    "        pseudob_pv[idx] = pb_model.pvalues['geno']\n",
    "        \n",
    "        pseudobulks['var'] = pseudobulks['var']/num_cell_per_ind\n",
    "        \n",
    "        dsl = estimators.DerSimonianLaird()\n",
    "        dsl.fit(\n",
    "            y=pseudobulks[['expr']].values,\n",
    "            X=sm.add_constant(pseudobulks[['age', 'geno']]).values,\n",
    "            v=pseudobulks[['var']].values)\n",
    "        wls_pv[idx] =float(dsl.summary().get_fe_stats()['p'][-1])\n",
    "        \n",
    "        \n",
    "    lm_power[jdx] = (lm_pv < 0.05).mean()\n",
    "    lmm_power[jdx] = (lmm_pv < 0.05).mean()\n",
    "    pseudobulk_power[jdx] = (pseudob_pv < 0.05).mean()\n",
    "    wls_power[jdx] = (wls_pv < 0.05).mean()"
   ]
  },
  {
   "cell_type": "code",
   "execution_count": null,
   "id": "a7af2f52-8e68-43c1-bac1-0ec181022785",
   "metadata": {},
   "outputs": [
    {
     "data": {
      "text/plain": [
       "<matplotlib.legend.Legend at 0x7f79f7c04340>"
      ]
     },
     "execution_count": 43,
     "metadata": {},
     "output_type": "execute_result"
    },
    {
     "data": {
      "image/png": "[encoded data removed]",
      "text/plain": [
       "<Figure size 640x480 with 1 Axes>"
      ]
     },
     "metadata": {},
     "output_type": "display_data"
    }
   ],
   "source": [
    "plt.plot(effect_sizes, lmm_power, '-o', label='lmm')\n",
    "plt.plot(effect_sizes, wls_power, '-o', label='wls')\n",
    "plt.plot(effect_sizes, pseudobulk_power, '-o', label='ols')\n",
    "plt.legend()"
   ]
  },
  {
   "cell_type": "code",
   "execution_count": null,
   "id": "f4b5373e-4b98-4d9d-b57d-efb8c3daa4f5",
   "metadata": {},
   "outputs": [
    {
     "name": "stderr",
     "output_type": "stream",
     "text": [
      "[autoreload of memento.util failed: Traceback (most recent call last):\n",
      "  File \"/home/ssm-user/anaconda3/envs/single_cell/lib/python3.10/site-packages/IPython/extensions/autoreload.py\", line 273, in check\n",
      "    superreload(m, reload, self.old_objects)\n",
      "  File \"/home/ssm-user/anaconda3/envs/single_cell/lib/python3.10/site-packages/IPython/extensions/autoreload.py\", line 471, in superreload\n",
      "    module = reload(module)\n",
      "  File \"/home/ssm-user/anaconda3/envs/single_cell/lib/python3.10/importlib/__init__.py\", line 169, in reload\n",
      "    _bootstrap._exec(spec, module)\n",
      "  File \"<frozen importlib._bootstrap>\", line 619, in _exec\n",
      "  File \"<frozen importlib._bootstrap_external>\", line 879, in exec_module\n",
      "  File \"<frozen importlib._bootstrap_external>\", line 1017, in get_code\n",
      "  File \"<frozen importlib._bootstrap_external>\", line 947, in source_to_code\n",
      "  File \"<frozen importlib._bootstrap>\", line 241, in _call_with_frames_removed\n",
      "  File \"/home/ssm-user/Github/memento/memento/util.py\", line 113\n",
      "    \n",
      "    ^\n",
      "IndentationError: expected an indented block after function definition on line 111\n",
      "]\n"
     ]
    },
    {
     "data": {
      "text/plain": [
       "{'est': array([[3.81191848],\n",
       "        [1.18296308],\n",
       "        [5.80263413]]),\n",
       " 'se': array([[4.55873337],\n",
       "        [0.13360197],\n",
       "        [1.85588174]]),\n",
       " 'ci_l': array([[-5.12303474],\n",
       "        [ 0.92110804],\n",
       "        [ 2.16517276]]),\n",
       " 'ci_u': array([[12.74687171],\n",
       "        [ 1.44481813],\n",
       "        [ 9.4400955 ]]),\n",
       " 'z': array([[0.8361793 ],\n",
       "        [8.85438365],\n",
       "        [3.12661847]]),\n",
       " 'p': array([[0.40305404],\n",
       "        [0.        ],\n",
       "        [0.00176829]])}"
      ]
     },
     "execution_count": 44,
     "metadata": {},
     "output_type": "execute_result"
    },
    {
     "name": "stderr",
     "output_type": "stream",
     "text": [
      "Bad pipe message: %s [b'\\xaa\\xd7\\xfc\\x8e\\xea\\x9a\\\\\\xa7S\\x7f\\xbc\\x0f\\x8b.\\xb9{m\\xed \\xf2\\xe6\\xb2\\x8eq\\xdfB4\\xfc\\xc3\\xc92R\\xe75t]\\xa6V!\\x10\\x97\\x15B\\xcf:8:\\xef\\x17\\xce\\x01\\x00&\\xc0+\\xc0/\\xc0,\\xc00\\xcc\\xa9\\xcc\\xa8\\xc0\\t\\xc0\\x13\\xc0\\n\\xc0\\x14\\x00\\x9c\\x00\\x9d\\x00/\\x005\\xc0\\x12\\x00\\n\\x13\\x01']\n",
      "Bad pipe message: %s [b'\\x13\\x03\\x01\\x00\\x00\\x89\\x00\\x00\\x00\\x0e\\x00\\x0c\\x00\\x00\\tloc']\n",
      "Bad pipe message: %s [b'host\\x00\\x05\\x00\\x05\\x01\\x00\\x00\\x00\\x00\\x00\\n\\x00\\n\\x00\\x08\\x00\\x1d\\x00\\x17\\x00\\x18\\x00\\x19\\x00\\x0b\\x00\\x02\\x01\\x00\\x00\\r\\x00\\x1a\\x00\\x18\\x08\\x04\\x04\\x03\\x08\\x07\\x08\\x05\\x08\\x06\\x04\\x01\\x05\\x01\\x06\\x01\\x05\\x03\\x06\\x03\\x02\\x01\\x02\\x03\\xff\\x01\\x00\\x01\\x00\\x00\\x12\\x00\\x00\\x00+\\x00\\x05\\x04\\x03\\x04\\x03\\x03\\x003\\x00&\\x00$\\x00\\x1d\\x00 wg\\x11\\xa8E']\n"
     ]
    }
   ],
   "source": [
    "dsl.summary().get_fe_stats()"
   ]
  },
  {
   "cell_type": "code",
   "execution_count": null,
   "id": "9e3e2f22-b14d-41a5-bec9-393fed698858",
   "metadata": {},
   "outputs": [],
   "source": []
  },
  {
   "cell_type": "code",
   "execution_count": null,
   "id": "eb629a89-bd94-4293-8852-28e2e1c5b9cb",
   "metadata": {},
   "outputs": [
    {
     "data": {
      "text/html": [
       "<div>\n",
       "<style scoped>\n",
       "    .dataframe tbody tr th:only-of-type {\n",
       "        vertical-align: middle;\n",
       "    }\n",
       "\n",
       "    .dataframe tbody tr th {\n",
       "        vertical-align: top;\n",
       "    }\n",
       "\n",
       "    .dataframe thead th {\n",
       "        text-align: right;\n",
       "    }\n",
       "</style>\n",
       "<table border=\"1\" class=\"dataframe\">\n",
       "  <thead>\n",
       "    <tr style=\"text-align: right;\">\n",
       "      <th></th>\n",
       "      <th>expr</th>\n",
       "      <th>geno</th>\n",
       "      <th>age</th>\n",
       "    </tr>\n",
       "    <tr>\n",
       "      <th>ind</th>\n",
       "      <th></th>\n",
       "      <th></th>\n",
       "      <th></th>\n",
       "    </tr>\n",
       "  </thead>\n",
       "  <tbody>\n",
       "    <tr>\n",
       "      <th>donor_0</th>\n",
       "      <td>46.831113</td>\n",
       "      <td>0.0</td>\n",
       "      <td>38.808083</td>\n",
       "    </tr>\n",
       "    <tr>\n",
       "      <th>donor_1</th>\n",
       "      <td>33.255335</td>\n",
       "      <td>0.0</td>\n",
       "      <td>20.637847</td>\n",
       "    </tr>\n",
       "    <tr>\n",
       "      <th>donor_10</th>\n",
       "      <td>57.820048</td>\n",
       "      <td>1.0</td>\n",
       "      <td>43.362017</td>\n",
       "    </tr>\n",
       "    <tr>\n",
       "      <th>donor_11</th>\n",
       "      <td>34.107427</td>\n",
       "      <td>1.0</td>\n",
       "      <td>17.284894</td>\n",
       "    </tr>\n",
       "    <tr>\n",
       "      <th>donor_12</th>\n",
       "      <td>45.045919</td>\n",
       "      <td>1.0</td>\n",
       "      <td>34.394089</td>\n",
       "    </tr>\n",
       "    <tr>\n",
       "      <th>donor_13</th>\n",
       "      <td>39.041103</td>\n",
       "      <td>1.0</td>\n",
       "      <td>32.189609</td>\n",
       "    </tr>\n",
       "    <tr>\n",
       "      <th>donor_14</th>\n",
       "      <td>29.987195</td>\n",
       "      <td>1.0</td>\n",
       "      <td>19.958391</td>\n",
       "    </tr>\n",
       "    <tr>\n",
       "      <th>donor_15</th>\n",
       "      <td>37.665257</td>\n",
       "      <td>1.0</td>\n",
       "      <td>23.605144</td>\n",
       "    </tr>\n",
       "    <tr>\n",
       "      <th>donor_16</th>\n",
       "      <td>53.365008</td>\n",
       "      <td>1.0</td>\n",
       "      <td>42.333040</td>\n",
       "    </tr>\n",
       "    <tr>\n",
       "      <th>donor_17</th>\n",
       "      <td>66.360784</td>\n",
       "      <td>1.0</td>\n",
       "      <td>50.351849</td>\n",
       "    </tr>\n",
       "    <tr>\n",
       "      <th>donor_18</th>\n",
       "      <td>46.825043</td>\n",
       "      <td>1.0</td>\n",
       "      <td>37.588144</td>\n",
       "    </tr>\n",
       "    <tr>\n",
       "      <th>donor_19</th>\n",
       "      <td>44.643357</td>\n",
       "      <td>1.0</td>\n",
       "      <td>31.126679</td>\n",
       "    </tr>\n",
       "    <tr>\n",
       "      <th>donor_2</th>\n",
       "      <td>14.502516</td>\n",
       "      <td>0.0</td>\n",
       "      <td>5.400457</td>\n",
       "    </tr>\n",
       "    <tr>\n",
       "      <th>donor_3</th>\n",
       "      <td>23.596018</td>\n",
       "      <td>0.0</td>\n",
       "      <td>18.157326</td>\n",
       "    </tr>\n",
       "    <tr>\n",
       "      <th>donor_4</th>\n",
       "      <td>34.350365</td>\n",
       "      <td>0.0</td>\n",
       "      <td>26.605003</td>\n",
       "    </tr>\n",
       "    <tr>\n",
       "      <th>donor_5</th>\n",
       "      <td>39.536529</td>\n",
       "      <td>0.0</td>\n",
       "      <td>30.598054</td>\n",
       "    </tr>\n",
       "    <tr>\n",
       "      <th>donor_6</th>\n",
       "      <td>34.999494</td>\n",
       "      <td>0.0</td>\n",
       "      <td>24.258270</td>\n",
       "    </tr>\n",
       "    <tr>\n",
       "      <th>donor_7</th>\n",
       "      <td>27.877703</td>\n",
       "      <td>0.0</td>\n",
       "      <td>16.413917</td>\n",
       "    </tr>\n",
       "    <tr>\n",
       "      <th>donor_8</th>\n",
       "      <td>39.630351</td>\n",
       "      <td>0.0</td>\n",
       "      <td>30.322579</td>\n",
       "    </tr>\n",
       "    <tr>\n",
       "      <th>donor_9</th>\n",
       "      <td>32.271809</td>\n",
       "      <td>0.0</td>\n",
       "      <td>22.717091</td>\n",
       "    </tr>\n",
       "  </tbody>\n",
       "</table>\n",
       "</div>"
      ],
      "text/plain": [
       "               expr  geno        age\n",
       "ind                                 \n",
       "donor_0   46.831113   0.0  38.808083\n",
       "donor_1   33.255335   0.0  20.637847\n",
       "donor_10  57.820048   1.0  43.362017\n",
       "donor_11  34.107427   1.0  17.284894\n",
       "donor_12  45.045919   1.0  34.394089\n",
       "donor_13  39.041103   1.0  32.189609\n",
       "donor_14  29.987195   1.0  19.958391\n",
       "donor_15  37.665257   1.0  23.605144\n",
       "donor_16  53.365008   1.0  42.333040\n",
       "donor_17  66.360784   1.0  50.351849\n",
       "donor_18  46.825043   1.0  37.588144\n",
       "donor_19  44.643357   1.0  31.126679\n",
       "donor_2   14.502516   0.0   5.400457\n",
       "donor_3   23.596018   0.0  18.157326\n",
       "donor_4   34.350365   0.0  26.605003\n",
       "donor_5   39.536529   0.0  30.598054\n",
       "donor_6   34.999494   0.0  24.258270\n",
       "donor_7   27.877703   0.0  16.413917\n",
       "donor_8   39.630351   0.0  30.322579\n",
       "donor_9   32.271809   0.0  22.717091"
      ]
     },
     "execution_count": 56,
     "metadata": {},
     "output_type": "execute_result"
    }
   ],
   "source": [
    "pseudobulks"
   ]
  },
  {
   "cell_type": "code",
   "execution_count": null,
   "id": "1c1f15e1-bcb2-45a2-8e07-e69838933269",
   "metadata": {},
   "outputs": [
    {
     "name": "stdout",
     "output_type": "stream",
     "text": [
      "CPU times: user 12.7 s, sys: 1.12 s, total: 13.9 s\n",
      "Wall time: 12.6 s\n"
     ]
    }
   ],
   "source": [
    "%%time\n",
    "\n",
    "# actually bootstrap everything\n",
    "\n",
    "lmm_result = []\n",
    "boot_result = []\n",
    "\n",
    "for univ in range(1):\n",
    "    \n",
    "    # Parameter generation\n",
    "    num_ind = 20\n",
    "    num_cell_per_ind = 1000\n",
    "    beta_geno = 1\n",
    "    beta_age = 1\n",
    "    ind_intercepts = stats.norm.rvs(scale=2, size=num_ind)\n",
    "    intercept = 10\n",
    "    geno = np.array([0 for i in range(int(num_ind/2))] + [1 for i in range(int(num_ind/2))])\n",
    "    age = stats.norm.rvs(scale=10, loc=30, size=num_ind)\n",
    "    \n",
    "    # Data generation\n",
    "    data = []\n",
    "    for ind in range(num_ind):\n",
    "        mu = intercept+beta_geno*geno[ind]+beta_age*age[ind]+ind_intercepts[ind]\n",
    "        data.append(stats.norm.rvs(loc=mu, scale=1, size=num_cell_per_ind))\n",
    "\n",
    "    df = pd.DataFrame()\n",
    "    df['expr'] = np.concatenate(data)\n",
    "    df['geno'] = np.repeat(geno, num_cell_per_ind)\n",
    "    df['age'] = np.repeat(age, num_cell_per_ind)\n",
    "    df['ind'] = ['donor_' + str(x) for x in np.repeat(range(num_ind), num_cell_per_ind)]\n",
    "    dummy_df = pd.get_dummies(df, drop_first=True)\n",
    "\n",
    "    #LMM\n",
    "    lmm_result.append(smf.mixedlm(\"expr ~ geno + age\", df, groups=df[\"ind\"]).fit())\n",
    "    \n",
    "    # bootstrap\n",
    "    num_boot = 100\n",
    "    b_coefs = np.zeros(num_boot)\n",
    "    for b in range(num_boot):\n",
    "        b_donors = np.random.choice(num_ind, size=num_ind)\n",
    "        genos = []\n",
    "        exprs = []\n",
    "        ages = []\n",
    "        for d in b_donors:\n",
    "            genos.append(np.ones(num_cell_per_ind)*int(d >= num_ind/2))\n",
    "            b_idxs = np.random.choice(num_cell_per_ind, size=num_cell_per_ind)\n",
    "            exprs.append(df.query('ind.str.contains(\"{}\")'.format(d), engine='python').expr.values[b_idxs])\n",
    "            ages.append(np.ones(num_cell_per_ind)*age[d])\n",
    "\n",
    "        genos = np.concatenate(genos)\n",
    "        exprs = np.concatenate(exprs)\n",
    "        ages = np.concatenate(ages)\n",
    "        b_coefs[b] = LinearRegression().fit(np.vstack([genos, ages]).T, exprs).coef_[0]\n",
    "    boot_result.append(b_coefs)"
   ]
  },
  {
   "cell_type": "code",
   "execution_count": null,
   "id": "7a7c5ed2-cbe7-4d84-be4e-bfcd721fc806",
   "metadata": {},
   "outputs": [],
   "source": [
    "pseudobulks = df.groupby(['ind', 'geno', 'age']).agg({'expr':['mean', 'var']}).reset_index()\n",
    "pseudobulks.columns = ['ind', 'geno', 'age', 'mean', 'var']\n"
   ]
  },
  {
   "cell_type": "code",
   "execution_count": null,
   "id": "3175fd6e-974e-4b09-a195-b57cef458af9",
   "metadata": {},
   "outputs": [
    {
     "data": {
      "text/html": [
       "<table class=\"simpletable\">\n",
       "<tr>\n",
       "       <td>Model:</td>       <td>MixedLM</td> <td>Dependent Variable:</td>    <td>expr</td>    \n",
       "</tr>\n",
       "<tr>\n",
       "  <td>No. Observations:</td>  <td>20000</td>        <td>Method:</td>          <td>REML</td>    \n",
       "</tr>\n",
       "<tr>\n",
       "     <td>No. Groups:</td>      <td>20</td>          <td>Scale:</td>          <td>0.9938</td>   \n",
       "</tr>\n",
       "<tr>\n",
       "  <td>Min. group size:</td>   <td>1000</td>     <td>Log-Likelihood:</td>   <td>-28404.1178</td>\n",
       "</tr>\n",
       "<tr>\n",
       "  <td>Max. group size:</td>   <td>1000</td>       <td>Converged:</td>          <td>Yes</td>    \n",
       "</tr>\n",
       "<tr>\n",
       "  <td>Mean group size:</td>  <td>1000.0</td>           <td></td>                <td></td>      \n",
       "</tr>\n",
       "</table>\n",
       "<table class=\"simpletable\">\n",
       "<tr>\n",
       "      <td></td>      <th>Coef.</th> <th>Std.Err.</th>    <th>z</th>   <th>P>|z|</th> <th>[0.025</th> <th>0.975]</th>\n",
       "</tr>\n",
       "<tr>\n",
       "  <th>Intercept</th> <td>9.604</td>   <td>1.738</td>   <td>5.527</td> <td>0.000</td>  <td>6.198</td> <td>13.010</td>\n",
       "</tr>\n",
       "<tr>\n",
       "  <th>geno</th>      <td>0.950</td>   <td>1.374</td>   <td>0.692</td> <td>0.489</td> <td>-1.742</td>  <td>3.642</td>\n",
       "</tr>\n",
       "<tr>\n",
       "  <th>age</th>       <td>0.986</td>   <td>0.065</td>  <td>15.292</td> <td>0.000</td>  <td>0.860</td>  <td>1.113</td>\n",
       "</tr>\n",
       "<tr>\n",
       "  <th>Group Var</th> <td>7.423</td>   <td>2.487</td>     <td></td>      <td></td>       <td></td>       <td></td>   \n",
       "</tr>\n",
       "</table>"
      ],
      "text/plain": [
       "<class 'statsmodels.iolib.summary2.Summary'>\n",
       "\"\"\"\n",
       "          Mixed Linear Model Regression Results\n",
       "=========================================================\n",
       "Model:            MixedLM Dependent Variable: expr       \n",
       "No. Observations: 20000   Method:             REML       \n",
       "No. Groups:       20      Scale:              0.9938     \n",
       "Min. group size:  1000    Log-Likelihood:     -28404.1178\n",
       "Max. group size:  1000    Converged:          Yes        \n",
       "Mean group size:  1000.0                                 \n",
       "----------------------------------------------------------\n",
       "            Coef.  Std.Err.    z     P>|z|  [0.025  0.975]\n",
       "----------------------------------------------------------\n",
       "Intercept   9.604     1.738   5.527  0.000   6.198  13.010\n",
       "geno        0.950     1.374   0.692  0.489  -1.742   3.642\n",
       "age         0.986     0.065  15.292  0.000   0.860   1.113\n",
       "Group Var   7.423     2.487                               \n",
       "=========================================================\n",
       "\n",
       "\"\"\""
      ]
     },
     "execution_count": 52,
     "metadata": {},
     "output_type": "execute_result"
    }
   ],
   "source": [
    "smf.mixedlm(\"expr ~ geno + age\", df, groups=df[\"ind\"]).fit().summary()"
   ]
  },
  {
   "cell_type": "code",
   "execution_count": null,
   "id": "73008149-159f-48ab-981e-792fb41c2c80",
   "metadata": {},
   "outputs": [
    {
     "data": {
      "text/html": [
       "<table class=\"simpletable\">\n",
       "<caption>OLS Regression Results</caption>\n",
       "<tr>\n",
       "  <th>Dep. Variable:</th>          <td>mean</td>       <th>  R-squared:         </th> <td>   0.947</td>\n",
       "</tr>\n",
       "<tr>\n",
       "  <th>Model:</th>                   <td>OLS</td>       <th>  Adj. R-squared:    </th> <td>   0.940</td>\n",
       "</tr>\n",
       "<tr>\n",
       "  <th>Method:</th>             <td>Least Squares</td>  <th>  F-statistic:       </th> <td>   150.8</td>\n",
       "</tr>\n",
       "<tr>\n",
       "  <th>Date:</th>             <td>Fri, 30 Jun 2023</td> <th>  Prob (F-statistic):</th> <td>1.52e-11</td>\n",
       "</tr>\n",
       "<tr>\n",
       "  <th>Time:</th>                 <td>00:07:16</td>     <th>  Log-Likelihood:    </th> <td> -47.078</td>\n",
       "</tr>\n",
       "<tr>\n",
       "  <th>No. Observations:</th>      <td>    20</td>      <th>  AIC:               </th> <td>   100.2</td>\n",
       "</tr>\n",
       "<tr>\n",
       "  <th>Df Residuals:</th>          <td>    17</td>      <th>  BIC:               </th> <td>   103.1</td>\n",
       "</tr>\n",
       "<tr>\n",
       "  <th>Df Model:</th>              <td>     2</td>      <th>                     </th>     <td> </td>   \n",
       "</tr>\n",
       "<tr>\n",
       "  <th>Covariance Type:</th>      <td>nonrobust</td>    <th>                     </th>     <td> </td>   \n",
       "</tr>\n",
       "</table>\n",
       "<table class=\"simpletable\">\n",
       "<tr>\n",
       "      <td></td>         <th>coef</th>     <th>std err</th>      <th>t</th>      <th>P>|t|</th>  <th>[0.025</th>    <th>0.975]</th>  \n",
       "</tr>\n",
       "<tr>\n",
       "  <th>Intercept</th> <td>    9.6039</td> <td>    1.762</td> <td>    5.451</td> <td> 0.000</td> <td>    5.887</td> <td>   13.321</td>\n",
       "</tr>\n",
       "<tr>\n",
       "  <th>geno</th>      <td>    0.9503</td> <td>    1.393</td> <td>    0.682</td> <td> 0.504</td> <td>   -1.988</td> <td>    3.889</td>\n",
       "</tr>\n",
       "<tr>\n",
       "  <th>age</th>       <td>    0.9864</td> <td>    0.065</td> <td>   15.081</td> <td> 0.000</td> <td>    0.848</td> <td>    1.124</td>\n",
       "</tr>\n",
       "</table>\n",
       "<table class=\"simpletable\">\n",
       "<tr>\n",
       "  <th>Omnibus:</th>       <td> 0.213</td> <th>  Durbin-Watson:     </th> <td>   1.785</td>\n",
       "</tr>\n",
       "<tr>\n",
       "  <th>Prob(Omnibus):</th> <td> 0.899</td> <th>  Jarque-Bera (JB):  </th> <td>   0.385</td>\n",
       "</tr>\n",
       "<tr>\n",
       "  <th>Skew:</th>          <td>-0.178</td> <th>  Prob(JB):          </th> <td>   0.825</td>\n",
       "</tr>\n",
       "<tr>\n",
       "  <th>Kurtosis:</th>      <td> 2.421</td> <th>  Cond. No.          </th> <td>    86.9</td>\n",
       "</tr>\n",
       "</table><br/><br/>Notes:<br/>[1] Standard Errors assume that the covariance matrix of the errors is correctly specified."
      ],
      "text/plain": [
       "<class 'statsmodels.iolib.summary.Summary'>\n",
       "\"\"\"\n",
       "                            OLS Regression Results                            \n",
       "==============================================================================\n",
       "Dep. Variable:                   mean   R-squared:                       0.947\n",
       "Model:                            OLS   Adj. R-squared:                  0.940\n",
       "Method:                 Least Squares   F-statistic:                     150.8\n",
       "Date:                Fri, 30 Jun 2023   Prob (F-statistic):           1.52e-11\n",
       "Time:                        00:07:16   Log-Likelihood:                -47.078\n",
       "No. Observations:                  20   AIC:                             100.2\n",
       "Df Residuals:                      17   BIC:                             103.1\n",
       "Df Model:                           2                                         \n",
       "Covariance Type:            nonrobust                                         \n",
       "==============================================================================\n",
       "                 coef    std err          t      P>|t|      [0.025      0.975]\n",
       "------------------------------------------------------------------------------\n",
       "Intercept      9.6039      1.762      5.451      0.000       5.887      13.321\n",
       "geno           0.9503      1.393      0.682      0.504      -1.988       3.889\n",
       "age            0.9864      0.065     15.081      0.000       0.848       1.124\n",
       "==============================================================================\n",
       "Omnibus:                        0.213   Durbin-Watson:                   1.785\n",
       "Prob(Omnibus):                  0.899   Jarque-Bera (JB):                0.385\n",
       "Skew:                          -0.178   Prob(JB):                        0.825\n",
       "Kurtosis:                       2.421   Cond. No.                         86.9\n",
       "==============================================================================\n",
       "\n",
       "Notes:\n",
       "[1] Standard Errors assume that the covariance matrix of the errors is correctly specified.\n",
       "\"\"\""
      ]
     },
     "execution_count": 53,
     "metadata": {},
     "output_type": "execute_result"
    }
   ],
   "source": [
    "smf.ols('mean~geno+age', pseudobulks).fit().summary()"
   ]
  },
  {
   "cell_type": "code",
   "execution_count": null,
   "id": "4e1dd1e1-07c7-416c-98ec-e708f62601b6",
   "metadata": {},
   "outputs": [
    {
     "data": {
      "text/html": [
       "<table class=\"simpletable\">\n",
       "<caption>WLS Regression Results</caption>\n",
       "<tr>\n",
       "  <th>Dep. Variable:</th>          <td>mean</td>       <th>  R-squared:         </th> <td>   0.956</td>\n",
       "</tr>\n",
       "<tr>\n",
       "  <th>Model:</th>                   <td>WLS</td>       <th>  Adj. R-squared:    </th> <td>   0.951</td>\n",
       "</tr>\n",
       "<tr>\n",
       "  <th>Method:</th>             <td>Least Squares</td>  <th>  F-statistic:       </th> <td>   185.8</td>\n",
       "</tr>\n",
       "<tr>\n",
       "  <th>Date:</th>             <td>Fri, 30 Jun 2023</td> <th>  Prob (F-statistic):</th> <td>2.80e-12</td>\n",
       "</tr>\n",
       "<tr>\n",
       "  <th>Time:</th>                 <td>00:06:02</td>     <th>  Log-Likelihood:    </th> <td> -43.876</td>\n",
       "</tr>\n",
       "<tr>\n",
       "  <th>No. Observations:</th>      <td>    20</td>      <th>  AIC:               </th> <td>   93.75</td>\n",
       "</tr>\n",
       "<tr>\n",
       "  <th>Df Residuals:</th>          <td>    17</td>      <th>  BIC:               </th> <td>   96.74</td>\n",
       "</tr>\n",
       "<tr>\n",
       "  <th>Df Model:</th>              <td>     2</td>      <th>                     </th>     <td> </td>   \n",
       "</tr>\n",
       "<tr>\n",
       "  <th>Covariance Type:</th>      <td>nonrobust</td>    <th>                     </th>     <td> </td>   \n",
       "</tr>\n",
       "</table>\n",
       "<table class=\"simpletable\">\n",
       "<tr>\n",
       "      <td></td>         <th>coef</th>     <th>std err</th>      <th>t</th>      <th>P>|t|</th>  <th>[0.025</th>    <th>0.975]</th>  \n",
       "</tr>\n",
       "<tr>\n",
       "  <th>Intercept</th> <td>   11.8316</td> <td>    1.973</td> <td>    5.996</td> <td> 0.000</td> <td>    7.668</td> <td>   15.995</td>\n",
       "</tr>\n",
       "<tr>\n",
       "  <th>geno</th>      <td>   -0.8917</td> <td>    1.067</td> <td>   -0.836</td> <td> 0.415</td> <td>   -3.142</td> <td>    1.359</td>\n",
       "</tr>\n",
       "<tr>\n",
       "  <th>age</th>       <td>    0.9826</td> <td>    0.052</td> <td>   18.865</td> <td> 0.000</td> <td>    0.873</td> <td>    1.093</td>\n",
       "</tr>\n",
       "</table>\n",
       "<table class=\"simpletable\">\n",
       "<tr>\n",
       "  <th>Omnibus:</th>       <td> 0.730</td> <th>  Durbin-Watson:     </th> <td>   2.214</td>\n",
       "</tr>\n",
       "<tr>\n",
       "  <th>Prob(Omnibus):</th> <td> 0.694</td> <th>  Jarque-Bera (JB):  </th> <td>   0.758</td>\n",
       "</tr>\n",
       "<tr>\n",
       "  <th>Skew:</th>          <td>-0.308</td> <th>  Prob(JB):          </th> <td>   0.685</td>\n",
       "</tr>\n",
       "<tr>\n",
       "  <th>Kurtosis:</th>      <td> 2.272</td> <th>  Cond. No.          </th> <td>    135.</td>\n",
       "</tr>\n",
       "</table><br/><br/>Notes:<br/>[1] Standard Errors assume that the covariance matrix of the errors is correctly specified."
      ],
      "text/plain": [
       "<class 'statsmodels.iolib.summary.Summary'>\n",
       "\"\"\"\n",
       "                            WLS Regression Results                            \n",
       "==============================================================================\n",
       "Dep. Variable:                   mean   R-squared:                       0.956\n",
       "Model:                            WLS   Adj. R-squared:                  0.951\n",
       "Method:                 Least Squares   F-statistic:                     185.8\n",
       "Date:                Fri, 30 Jun 2023   Prob (F-statistic):           2.80e-12\n",
       "Time:                        00:06:02   Log-Likelihood:                -43.876\n",
       "No. Observations:                  20   AIC:                             93.75\n",
       "Df Residuals:                      17   BIC:                             96.74\n",
       "Df Model:                           2                                         \n",
       "Covariance Type:            nonrobust                                         \n",
       "==============================================================================\n",
       "                 coef    std err          t      P>|t|      [0.025      0.975]\n",
       "------------------------------------------------------------------------------\n",
       "Intercept     11.8316      1.973      5.996      0.000       7.668      15.995\n",
       "geno          -0.8917      1.067     -0.836      0.415      -3.142       1.359\n",
       "age            0.9826      0.052     18.865      0.000       0.873       1.093\n",
       "==============================================================================\n",
       "Omnibus:                        0.730   Durbin-Watson:                   2.214\n",
       "Prob(Omnibus):                  0.694   Jarque-Bera (JB):                0.758\n",
       "Skew:                          -0.308   Prob(JB):                        0.685\n",
       "Kurtosis:                       2.272   Cond. No.                         135.\n",
       "==============================================================================\n",
       "\n",
       "Notes:\n",
       "[1] Standard Errors assume that the covariance matrix of the errors is correctly specified.\n",
       "\"\"\""
      ]
     },
     "execution_count": 49,
     "metadata": {},
     "output_type": "execute_result"
    }
   ],
   "source": [
    "smf.wls('mean~geno+age', pseudobulks, weights=1/pseudobulks['var']).fit().summary()"
   ]
  },
  {
   "cell_type": "code",
   "execution_count": null,
   "id": "db8cdbaf-7e1d-4d52-a99e-4287071447e8",
   "metadata": {},
   "outputs": [],
   "source": []
  },
  {
   "cell_type": "code",
   "execution_count": null,
   "id": "9eee426a-bbb8-40d6-9e83-4b4e3966acc3",
   "metadata": {},
   "outputs": [
    {
     "data": {
      "text/plain": [
       "1.0120044603239813"
      ]
     },
     "execution_count": 40,
     "metadata": {},
     "output_type": "execute_result"
    }
   ],
   "source": [
    "np.mean(boot_result[0])"
   ]
  },
  {
   "cell_type": "code",
   "execution_count": null,
   "id": "5e0df07c-e85b-4a01-8290-f62ce6b82042",
   "metadata": {},
   "outputs": [
    {
     "data": {
      "text/plain": [
       "0.6294694268678616"
      ]
     },
     "execution_count": 16,
     "metadata": {},
     "output_type": "execute_result"
    }
   ],
   "source": [
    "np.std(boot_result[0])"
   ]
  },
  {
   "cell_type": "code",
   "execution_count": null,
   "id": "2f404d69-3449-44b5-881c-ad83b442fef8",
   "metadata": {},
   "outputs": [
    {
     "data": {
      "text/plain": [
       "0.5967784298460402"
      ]
     },
     "execution_count": 17,
     "metadata": {},
     "output_type": "execute_result"
    }
   ],
   "source": [
    "lmm_result[0].bse['geno']"
   ]
  },
  {
   "cell_type": "markdown",
   "id": "8bca6544-a078-4b39-bf36-5848b5b798fa",
   "metadata": {},
   "source": [
    "### Perturbseq"
   ]
  },
  {
   "cell_type": "code",
   "execution_count": null,
   "id": "fb494c55-4d36-40a2-9265-00f047dfed16",
   "metadata": {},
   "outputs": [
    {
     "name": "stdout",
     "output_type": "stream",
     "text": [
      "WARNING: Your filename has more than two extensions: ['.sng', '.guides', '.full', '.ct', '.details', '.h5ad'].\n",
      "Only considering the two last: ['.details', '.h5ad'].\n",
      "WARNING: Your filename has more than two extensions: ['.sng', '.guides', '.full', '.ct', '.details', '.h5ad'].\n",
      "Only considering the two last: ['.details', '.h5ad'].\n"
     ]
    }
   ],
   "source": [
    "adata = sc.read(data_path + 'tfko140/tfko.sng.guides.full.ct.details.h5ad')"
   ]
  },
  {
   "cell_type": "code",
   "execution_count": null,
   "id": "637e5ac4-4026-40de-bbd0-568853e6fb2e",
   "metadata": {},
   "outputs": [
    {
     "ename": "NameError",
     "evalue": "name 'pd' is not defined",
     "output_type": "error",
     "traceback": [
      "\u001b[0;31m---------------------------------------------------------------------------\u001b[0m",
      "\u001b[0;31mNameError\u001b[0m                                 Traceback (most recent call last)",
      "Cell \u001b[0;32mIn[1], line 1\u001b[0m\n\u001b[0;32m----> 1\u001b[0m guide_pairs \u001b[38;5;241m=\u001b[39m \u001b[43mpd\u001b[49m\u001b[38;5;241m.\u001b[39mread_csv(\u001b[38;5;124m'\u001b[39m\u001b[38;5;124mguide_pairs_to_test.csv\u001b[39m\u001b[38;5;124m'\u001b[39m)\n",
      "\u001b[0;31mNameError\u001b[0m: name 'pd' is not defined"
     ]
    }
   ],
   "source": [
    "guide_pairs = pd.read_csv('guide_pairs_to_test.csv')"
   ]
  },
  {
   "cell_type": "code",
   "execution_count": null,
   "id": "15ae3995-49a8-44c3-b99b-b5028883e464",
   "metadata": {},
   "outputs": [
    {
     "name": "stderr",
     "output_type": "stream",
     "text": [
      "2023-06-29 15:08:54 2997726 INFO     setup_anndata: creating groups\n",
      "2023-06-29 15:09:18 2997726 INFO     setup_anndata: computing cell sizes\n"
     ]
    }
   ],
   "source": [
    "rna.MementoRNA.setup_anndata(\n",
    "    adata=adata,\n",
    "    q_column='q',\n",
    "    label_columns=['donor', 'guide'])"
   ]
  },
  {
   "cell_type": "code",
   "execution_count": null,
   "id": "901fc48c-fff5-4049-bcbe-683a5f6a8116",
   "metadata": {},
   "outputs": [
    {
     "name": "stderr",
     "output_type": "stream",
     "text": [
      "2023-06-29 15:09:29 2997726 WARNING  /tmp/ipykernel_2997726/1251293065.py:2: ImplicitModificationWarning: Trying to modify attribute `.var` of view, initializing view as actual.\n",
      "  adata.var['expr_genes'] = (adata.X.mean(axis=0).A1 > 0.1)\n",
      "\n"
     ]
    }
   ],
   "source": [
    "# Define expressed genes\n",
    "adata.var['expr_genes'] = (adata.X.mean(axis=0).A1 > 0.1)\n",
    "adata = adata[:, adata.var['expr_genes']]"
   ]
  },
  {
   "cell_type": "code",
   "execution_count": null,
   "id": "c07f6338-d062-48d3-85a2-c80b4b94412f",
   "metadata": {},
   "outputs": [],
   "source": [
    "model = rna.MementoRNA(adata=adata)"
   ]
  },
  {
   "cell_type": "code",
   "execution_count": null,
   "id": "c460c8b0-4d81-4fa9-9edd-3e22579eb6af",
   "metadata": {},
   "outputs": [
    {
     "name": "stderr",
     "output_type": "stream",
     "text": [
      "2023-06-29 15:10:27 2997726 INFO     compute_estimate: gene_list is None, using all genes...\n"
     ]
    }
   ],
   "source": [
    "model.compute_estimate(\n",
    "    estimator=[\n",
    "        'mean', \n",
    "        'sem', \n",
    "        'var', \n",
    "        'total_umi',\n",
    "        'cell_count'])"
   ]
  },
  {
   "cell_type": "code",
   "execution_count": null,
   "id": "11841e02-2006-4326-bcf8-c7d30fe583f4",
   "metadata": {},
   "outputs": [
    {
     "ename": "NameError",
     "evalue": "name 'model' is not defined",
     "output_type": "error",
     "traceback": [
      "\u001b[0;31m---------------------------------------------------------------------------\u001b[0m",
      "\u001b[0;31mNameError\u001b[0m                                 Traceback (most recent call last)",
      "Cell \u001b[0;32mIn[33], line 15\u001b[0m\n\u001b[1;32m     12\u001b[0m     covariate \u001b[38;5;241m=\u001b[39m pd\u001b[38;5;241m.\u001b[39mget_dummies(covariate, drop_first\u001b[38;5;241m=\u001b[39m\u001b[38;5;28;01mTrue\u001b[39;00m)\u001b[38;5;241m.\u001b[39mastype(\u001b[38;5;28mfloat\u001b[39m)\n\u001b[1;32m     13\u001b[0m     covariate \u001b[38;5;241m=\u001b[39m sm\u001b[38;5;241m.\u001b[39madd_constant(covariate)\n\u001b[0;32m---> 15\u001b[0m     result \u001b[38;5;241m=\u001b[39m \u001b[43mmodel\u001b[49m\u001b[38;5;241m.\u001b[39mdifferential_mean(covariates\u001b[38;5;241m=\u001b[39mcovariate, treatments\u001b[38;5;241m=\u001b[39mtreatment, family\u001b[38;5;241m=\u001b[39m\u001b[38;5;124m'\u001b[39m\u001b[38;5;124mNB\u001b[39m\u001b[38;5;124m'\u001b[39m)\n\u001b[1;32m     16\u001b[0m     \u001b[38;5;28;01mbreak\u001b[39;00m\n\u001b[1;32m     17\u001b[0m \u001b[38;5;28;01mbreak\u001b[39;00m\n",
      "\u001b[0;31mNameError\u001b[0m: name 'model' is not defined"
     ]
    }
   ],
   "source": [
    "for idx, row in guide_pairs.iterrows():\n",
    "    \n",
    "    sets = [(row['target1_guide1'], row['target2_guide1']), (row['target1_guide2'], row['target2_guide2'])]\n",
    "    for t1, t2 in sets:\n",
    "        \n",
    "\n",
    "        groups = [f'memento_group^{d}^{g}' for d,g in itertools.product(donors, [t1,t2])]\n",
    "        treatment = pd.DataFrame(index=groups)\n",
    "        covariate = pd.DataFrame(index=groups)\n",
    "        treatment['is_target1'] = treatment.index.str.contains(t1).astype(float)\n",
    "        covariate['donor'] = covariate.index.str.split('^').str[1]\n",
    "        covariate = pd.get_dummies(covariate, drop_first=True).astype(float)\n",
    "        covariate = sm.add_constant(covariate)\n",
    "        \n",
    "        result = model.differential_mean(covariates=covariate, treatments=treatment, family='NB')\n",
    "        break\n",
    "    break"
   ]
  },
  {
   "cell_type": "code",
   "execution_count": null,
   "id": "62042c79-eba2-4a4f-adc9-9e67a9e7d28a",
   "metadata": {},
   "outputs": [],
   "source": []
  },
  {
   "cell_type": "code",
   "execution_count": null,
   "id": "7777d98d-7412-465e-9160-09842a592660",
   "metadata": {},
   "outputs": [
    {
     "data": {
      "text/plain": [
       "63363.200169352494"
      ]
     },
     "execution_count": 186,
     "metadata": {},
     "output_type": "execute_result"
    }
   ],
   "source": [
    "alpha"
   ]
  },
  {
   "cell_type": "code",
   "execution_count": null,
   "id": "66039afd-7047-439e-b7e6-1ae6d95f2ae1",
   "metadata": {},
   "outputs": [
    {
     "data": {
      "text/plain": [
       "18"
      ]
     },
     "execution_count": 167,
     "metadata": {},
     "output_type": "execute_result"
    }
   ],
   "source": [
    "len(groups)"
   ]
  },
  {
   "cell_type": "code",
   "execution_count": null,
   "id": "86b10fc6-4116-443a-9fb5-6920b7c07338",
   "metadata": {},
   "outputs": [],
   "source": [
    "model.differential_mean("
   ]
  },
  {
   "cell_type": "code",
   "execution_count": 103,
   "id": "c15b97b1-618c-4f3a-af64-041d145fff34",
   "metadata": {},
   "outputs": [
    {
     "data": {
      "text/html": [
       "<div>\n",
       "<style scoped>\n",
       "    .dataframe tbody tr th:only-of-type {\n",
       "        vertical-align: middle;\n",
       "    }\n",
       "\n",
       "    .dataframe tbody tr th {\n",
       "        vertical-align: top;\n",
       "    }\n",
       "\n",
       "    .dataframe thead th {\n",
       "        text-align: right;\n",
       "    }\n",
       "</style>\n",
       "<table border=\"1\" class=\"dataframe\">\n",
       "  <thead>\n",
       "    <tr style=\"text-align: right;\">\n",
       "      <th></th>\n",
       "      <th>HES4</th>\n",
       "      <th>ISG15</th>\n",
       "      <th>AURKAIP1</th>\n",
       "      <th>MRPL20</th>\n",
       "      <th>SSU72</th>\n",
       "      <th>FAAP20</th>\n",
       "      <th>RER1</th>\n",
       "      <th>RPL22</th>\n",
       "      <th>CAMTA1</th>\n",
       "      <th>PARK7</th>\n",
       "      <th>...</th>\n",
       "      <th>MT-CO1</th>\n",
       "      <th>MT-CO2</th>\n",
       "      <th>MT-ATP6</th>\n",
       "      <th>MT-CO3</th>\n",
       "      <th>MT-ND3</th>\n",
       "      <th>MT-ND4L</th>\n",
       "      <th>MT-ND4</th>\n",
       "      <th>MT-ND5</th>\n",
       "      <th>MT-ND6</th>\n",
       "      <th>MT-CYB</th>\n",
       "    </tr>\n",
       "  </thead>\n",
       "  <tbody>\n",
       "    <tr>\n",
       "      <th>memento_group^d2513^lambda</th>\n",
       "      <td>1.481903</td>\n",
       "      <td>2.918035</td>\n",
       "      <td>1.248124</td>\n",
       "      <td>1.151114</td>\n",
       "      <td>0.796047</td>\n",
       "      <td>0.688903</td>\n",
       "      <td>0.799036</td>\n",
       "      <td>2.311397</td>\n",
       "      <td>0.662609</td>\n",
       "      <td>1.389984</td>\n",
       "      <td>...</td>\n",
       "      <td>4.781543</td>\n",
       "      <td>5.035557</td>\n",
       "      <td>4.306277</td>\n",
       "      <td>4.669350</td>\n",
       "      <td>4.196213</td>\n",
       "      <td>1.207645</td>\n",
       "      <td>3.880316</td>\n",
       "      <td>2.682342</td>\n",
       "      <td>1.129243</td>\n",
       "      <td>4.219916</td>\n",
       "    </tr>\n",
       "    <tr>\n",
       "      <th>memento_group^d2513^alpha</th>\n",
       "      <td>2.059117</td>\n",
       "      <td>4.531693</td>\n",
       "      <td>1.168273</td>\n",
       "      <td>1.111109</td>\n",
       "      <td>0.741488</td>\n",
       "      <td>0.638318</td>\n",
       "      <td>0.797022</td>\n",
       "      <td>2.218033</td>\n",
       "      <td>0.661000</td>\n",
       "      <td>1.318972</td>\n",
       "      <td>...</td>\n",
       "      <td>4.724957</td>\n",
       "      <td>4.963626</td>\n",
       "      <td>4.107903</td>\n",
       "      <td>4.580826</td>\n",
       "      <td>3.985490</td>\n",
       "      <td>1.171700</td>\n",
       "      <td>3.737851</td>\n",
       "      <td>2.632713</td>\n",
       "      <td>1.206280</td>\n",
       "      <td>4.000984</td>\n",
       "    </tr>\n",
       "    <tr>\n",
       "      <th>memento_group^d2614^alpha</th>\n",
       "      <td>2.279935</td>\n",
       "      <td>4.619538</td>\n",
       "      <td>1.193438</td>\n",
       "      <td>1.117366</td>\n",
       "      <td>0.726243</td>\n",
       "      <td>0.660516</td>\n",
       "      <td>0.794383</td>\n",
       "      <td>2.226239</td>\n",
       "      <td>0.702266</td>\n",
       "      <td>1.438239</td>\n",
       "      <td>...</td>\n",
       "      <td>4.855021</td>\n",
       "      <td>4.978246</td>\n",
       "      <td>4.282140</td>\n",
       "      <td>4.653388</td>\n",
       "      <td>4.022501</td>\n",
       "      <td>1.308636</td>\n",
       "      <td>4.025741</td>\n",
       "      <td>2.842001</td>\n",
       "      <td>1.150923</td>\n",
       "      <td>4.070645</td>\n",
       "    </tr>\n",
       "    <tr>\n",
       "      <th>memento_group^d2614^gamma</th>\n",
       "      <td>1.527547</td>\n",
       "      <td>2.416112</td>\n",
       "      <td>1.215534</td>\n",
       "      <td>1.144783</td>\n",
       "      <td>0.778665</td>\n",
       "      <td>0.699331</td>\n",
       "      <td>0.753857</td>\n",
       "      <td>2.258028</td>\n",
       "      <td>0.735618</td>\n",
       "      <td>1.490730</td>\n",
       "      <td>...</td>\n",
       "      <td>5.062633</td>\n",
       "      <td>5.125339</td>\n",
       "      <td>4.632171</td>\n",
       "      <td>5.006990</td>\n",
       "      <td>4.357939</td>\n",
       "      <td>1.408000</td>\n",
       "      <td>4.307337</td>\n",
       "      <td>3.069828</td>\n",
       "      <td>1.045186</td>\n",
       "      <td>4.464017</td>\n",
       "    </tr>\n",
       "    <tr>\n",
       "      <th>memento_group^d2513^beta</th>\n",
       "      <td>2.121771</td>\n",
       "      <td>4.622133</td>\n",
       "      <td>1.168793</td>\n",
       "      <td>1.114753</td>\n",
       "      <td>0.752678</td>\n",
       "      <td>0.640534</td>\n",
       "      <td>0.802262</td>\n",
       "      <td>2.212368</td>\n",
       "      <td>0.649799</td>\n",
       "      <td>1.310345</td>\n",
       "      <td>...</td>\n",
       "      <td>4.687493</td>\n",
       "      <td>4.919380</td>\n",
       "      <td>4.055368</td>\n",
       "      <td>4.524850</td>\n",
       "      <td>3.964976</td>\n",
       "      <td>1.138075</td>\n",
       "      <td>3.677466</td>\n",
       "      <td>2.583838</td>\n",
       "      <td>1.219998</td>\n",
       "      <td>3.934374</td>\n",
       "    </tr>\n",
       "    <tr>\n",
       "      <th>memento_group^d2513^gamma</th>\n",
       "      <td>1.405700</td>\n",
       "      <td>2.301020</td>\n",
       "      <td>1.214456</td>\n",
       "      <td>1.148358</td>\n",
       "      <td>0.798161</td>\n",
       "      <td>0.693603</td>\n",
       "      <td>0.784411</td>\n",
       "      <td>2.329350</td>\n",
       "      <td>0.720761</td>\n",
       "      <td>1.390215</td>\n",
       "      <td>...</td>\n",
       "      <td>4.864451</td>\n",
       "      <td>5.040166</td>\n",
       "      <td>4.373682</td>\n",
       "      <td>4.833792</td>\n",
       "      <td>4.161624</td>\n",
       "      <td>1.204392</td>\n",
       "      <td>3.926482</td>\n",
       "      <td>2.706519</td>\n",
       "      <td>1.129734</td>\n",
       "      <td>4.294661</td>\n",
       "    </tr>\n",
       "    <tr>\n",
       "      <th>memento_group^d2614^lambda</th>\n",
       "      <td>1.597442</td>\n",
       "      <td>2.729882</td>\n",
       "      <td>1.230191</td>\n",
       "      <td>1.137909</td>\n",
       "      <td>0.789010</td>\n",
       "      <td>0.704557</td>\n",
       "      <td>0.752297</td>\n",
       "      <td>2.319340</td>\n",
       "      <td>0.695194</td>\n",
       "      <td>1.483711</td>\n",
       "      <td>...</td>\n",
       "      <td>5.013710</td>\n",
       "      <td>5.120471</td>\n",
       "      <td>4.606475</td>\n",
       "      <td>4.933447</td>\n",
       "      <td>4.308293</td>\n",
       "      <td>1.388678</td>\n",
       "      <td>4.272579</td>\n",
       "      <td>3.020408</td>\n",
       "      <td>1.039154</td>\n",
       "      <td>4.453143</td>\n",
       "    </tr>\n",
       "    <tr>\n",
       "      <th>memento_group^d2614^beta</th>\n",
       "      <td>2.316380</td>\n",
       "      <td>4.655024</td>\n",
       "      <td>1.230592</td>\n",
       "      <td>1.143457</td>\n",
       "      <td>0.766699</td>\n",
       "      <td>0.648228</td>\n",
       "      <td>0.833913</td>\n",
       "      <td>2.174193</td>\n",
       "      <td>0.690152</td>\n",
       "      <td>1.471686</td>\n",
       "      <td>...</td>\n",
       "      <td>4.876392</td>\n",
       "      <td>4.999774</td>\n",
       "      <td>4.344670</td>\n",
       "      <td>4.667187</td>\n",
       "      <td>4.078002</td>\n",
       "      <td>1.316179</td>\n",
       "      <td>4.058073</td>\n",
       "      <td>2.875399</td>\n",
       "      <td>1.144918</td>\n",
       "      <td>4.111324</td>\n",
       "    </tr>\n",
       "    <tr>\n",
       "      <th>memento_group^d2513^control</th>\n",
       "      <td>1.425426</td>\n",
       "      <td>1.867707</td>\n",
       "      <td>1.488410</td>\n",
       "      <td>1.388584</td>\n",
       "      <td>0.937817</td>\n",
       "      <td>0.737072</td>\n",
       "      <td>1.033393</td>\n",
       "      <td>2.157089</td>\n",
       "      <td>0.781320</td>\n",
       "      <td>1.586062</td>\n",
       "      <td>...</td>\n",
       "      <td>4.761413</td>\n",
       "      <td>5.135210</td>\n",
       "      <td>4.395092</td>\n",
       "      <td>4.658176</td>\n",
       "      <td>4.412241</td>\n",
       "      <td>1.302026</td>\n",
       "      <td>3.940993</td>\n",
       "      <td>3.078026</td>\n",
       "      <td>1.073105</td>\n",
       "      <td>4.358509</td>\n",
       "    </tr>\n",
       "    <tr>\n",
       "      <th>memento_group^d2614^control</th>\n",
       "      <td>1.470167</td>\n",
       "      <td>1.360531</td>\n",
       "      <td>1.232004</td>\n",
       "      <td>1.098020</td>\n",
       "      <td>0.813108</td>\n",
       "      <td>0.726020</td>\n",
       "      <td>0.751950</td>\n",
       "      <td>2.369987</td>\n",
       "      <td>0.741605</td>\n",
       "      <td>1.506803</td>\n",
       "      <td>...</td>\n",
       "      <td>5.067929</td>\n",
       "      <td>5.131412</td>\n",
       "      <td>4.697723</td>\n",
       "      <td>5.087352</td>\n",
       "      <td>4.321922</td>\n",
       "      <td>1.412703</td>\n",
       "      <td>4.341297</td>\n",
       "      <td>3.096590</td>\n",
       "      <td>0.973742</td>\n",
       "      <td>4.565712</td>\n",
       "    </tr>\n",
       "  </tbody>\n",
       "</table>\n",
       "<p>10 rows × 1504 columns</p>\n",
       "</div>"
      ],
      "text/plain": [
       "                                 HES4     ISG15  AURKAIP1    MRPL20     SSU72   \n",
       "memento_group^d2513^lambda   1.481903  2.918035  1.248124  1.151114  0.796047  \\\n",
       "memento_group^d2513^alpha    2.059117  4.531693  1.168273  1.111109  0.741488   \n",
       "memento_group^d2614^alpha    2.279935  4.619538  1.193438  1.117366  0.726243   \n",
       "memento_group^d2614^gamma    1.527547  2.416112  1.215534  1.144783  0.778665   \n",
       "memento_group^d2513^beta     2.121771  4.622133  1.168793  1.114753  0.752678   \n",
       "memento_group^d2513^gamma    1.405700  2.301020  1.214456  1.148358  0.798161   \n",
       "memento_group^d2614^lambda   1.597442  2.729882  1.230191  1.137909  0.789010   \n",
       "memento_group^d2614^beta     2.316380  4.655024  1.230592  1.143457  0.766699   \n",
       "memento_group^d2513^control  1.425426  1.867707  1.488410  1.388584  0.937817   \n",
       "memento_group^d2614^control  1.470167  1.360531  1.232004  1.098020  0.813108   \n",
       "\n",
       "                               FAAP20      RER1     RPL22    CAMTA1     PARK7   \n",
       "memento_group^d2513^lambda   0.688903  0.799036  2.311397  0.662609  1.389984  \\\n",
       "memento_group^d2513^alpha    0.638318  0.797022  2.218033  0.661000  1.318972   \n",
       "memento_group^d2614^alpha    0.660516  0.794383  2.226239  0.702266  1.438239   \n",
       "memento_group^d2614^gamma    0.699331  0.753857  2.258028  0.735618  1.490730   \n",
       "memento_group^d2513^beta     0.640534  0.802262  2.212368  0.649799  1.310345   \n",
       "memento_group^d2513^gamma    0.693603  0.784411  2.329350  0.720761  1.390215   \n",
       "memento_group^d2614^lambda   0.704557  0.752297  2.319340  0.695194  1.483711   \n",
       "memento_group^d2614^beta     0.648228  0.833913  2.174193  0.690152  1.471686   \n",
       "memento_group^d2513^control  0.737072  1.033393  2.157089  0.781320  1.586062   \n",
       "memento_group^d2614^control  0.726020  0.751950  2.369987  0.741605  1.506803   \n",
       "\n",
       "                             ...    MT-CO1    MT-CO2   MT-ATP6    MT-CO3   \n",
       "memento_group^d2513^lambda   ...  4.781543  5.035557  4.306277  4.669350  \\\n",
       "memento_group^d2513^alpha    ...  4.724957  4.963626  4.107903  4.580826   \n",
       "memento_group^d2614^alpha    ...  4.855021  4.978246  4.282140  4.653388   \n",
       "memento_group^d2614^gamma    ...  5.062633  5.125339  4.632171  5.006990   \n",
       "memento_group^d2513^beta     ...  4.687493  4.919380  4.055368  4.524850   \n",
       "memento_group^d2513^gamma    ...  4.864451  5.040166  4.373682  4.833792   \n",
       "memento_group^d2614^lambda   ...  5.013710  5.120471  4.606475  4.933447   \n",
       "memento_group^d2614^beta     ...  4.876392  4.999774  4.344670  4.667187   \n",
       "memento_group^d2513^control  ...  4.761413  5.135210  4.395092  4.658176   \n",
       "memento_group^d2614^control  ...  5.067929  5.131412  4.697723  5.087352   \n",
       "\n",
       "                               MT-ND3   MT-ND4L    MT-ND4    MT-ND5    MT-ND6   \n",
       "memento_group^d2513^lambda   4.196213  1.207645  3.880316  2.682342  1.129243  \\\n",
       "memento_group^d2513^alpha    3.985490  1.171700  3.737851  2.632713  1.206280   \n",
       "memento_group^d2614^alpha    4.022501  1.308636  4.025741  2.842001  1.150923   \n",
       "memento_group^d2614^gamma    4.357939  1.408000  4.307337  3.069828  1.045186   \n",
       "memento_group^d2513^beta     3.964976  1.138075  3.677466  2.583838  1.219998   \n",
       "memento_group^d2513^gamma    4.161624  1.204392  3.926482  2.706519  1.129734   \n",
       "memento_group^d2614^lambda   4.308293  1.388678  4.272579  3.020408  1.039154   \n",
       "memento_group^d2614^beta     4.078002  1.316179  4.058073  2.875399  1.144918   \n",
       "memento_group^d2513^control  4.412241  1.302026  3.940993  3.078026  1.073105   \n",
       "memento_group^d2614^control  4.321922  1.412703  4.341297  3.096590  0.973742   \n",
       "\n",
       "                               MT-CYB  \n",
       "memento_group^d2513^lambda   4.219916  \n",
       "memento_group^d2513^alpha    4.000984  \n",
       "memento_group^d2614^alpha    4.070645  \n",
       "memento_group^d2614^gamma    4.464017  \n",
       "memento_group^d2513^beta     3.934374  \n",
       "memento_group^d2513^gamma    4.294661  \n",
       "memento_group^d2614^lambda   4.453143  \n",
       "memento_group^d2614^beta     4.111324  \n",
       "memento_group^d2513^control  4.358509  \n",
       "memento_group^d2614^control  4.565712  \n",
       "\n",
       "[10 rows x 1504 columns]"
      ]
     },
     "execution_count": 103,
     "metadata": {},
     "output_type": "execute_result"
    }
   ],
   "source": [
    "model.estimates['log1p_mean']"
   ]
  },
  {
   "cell_type": "code",
   "execution_count": 97,
   "id": "983251be-6a44-4962-845a-ab60780362b8",
   "metadata": {},
   "outputs": [
    {
     "data": {
      "text/plain": [
       "'log_var'"
      ]
     },
     "execution_count": 97,
     "metadata": {},
     "output_type": "execute_result"
    }
   ],
   "source": [
    "'se_log_var'.split('se_')[-1]"
   ]
  },
  {
   "cell_type": "code",
   "execution_count": 96,
   "id": "f0083c00-4c8f-4aa6-9838-885baae4b45b",
   "metadata": {},
   "outputs": [],
   "source": [
    "expr = model.estimates['mean']*model.estimates['total_umi'].values\n",
    "expr_se = model.estimates['sem']*model.estimates['cell_count'].values**2\n",
    "\n",
    "# Transform standard error to weights\n",
    "weights = np.sqrt(1/expr_se).replace([-np.inf, np.inf], np.nan)\n",
    "mean_weight = np.nanmean(weights)\n",
    "weights /= mean_weight\n",
    "weights = weights.fillna(1.0)\n"
   ]
  },
  {
   "cell_type": "code",
   "execution_count": 102,
   "id": "ed584e4a-865c-4e99-ab8a-99f6dff4d148",
   "metadata": {},
   "outputs": [],
   "source": [
    "design_matrix = pd.DataFrame(\n",
    "    stats.bernoulli.rvs(size=len(adata.uns['memento']['groups']), p=0.5),\n",
    "    index=adata.uns['memento']['groups'],\n",
    "    columns=['treatment'])\n",
    "design_matrix['intercept'] = 1"
   ]
  },
  {
   "cell_type": "code",
   "execution_count": 141,
   "id": "3070fda5-e123-40d2-98e1-3ea3ec5b5be0",
   "metadata": {},
   "outputs": [],
   "source": [
    "def fit_nb(endog, exog, offset, weights=None):\n",
    "    \n",
    "    poi = sm.GLM(\n",
    "        endog,\n",
    "        exog, \n",
    "        offset=offset,\n",
    "        var_weights=weights,\n",
    "        family=sm.families.Poisson()).fit()\n",
    "\n",
    "    mu = poi.predict()\n",
    "    resid = poi.resid_response\n",
    "    df_resid=poi.df_resid\n",
    "\n",
    "    alpha = ((resid**2 / mu - 1) / mu).sum() / df_resid\n",
    "    \n",
    "    nb = sm.GLM(\n",
    "        endog,\n",
    "        exog, \n",
    "        offset=offset,\n",
    "        var_weights=weights,\n",
    "        family=sm.families.NegativeBinomial(alpha=alpha))\\\n",
    "        .fit(start_params=poi.params)\n",
    "    \n",
    "    return nb"
   ]
  },
  {
   "cell_type": "code",
   "execution_count": 142,
   "id": "c759e539-c3e7-4b39-abaf-65ce8451e387",
   "metadata": {},
   "outputs": [
    {
     "data": {
      "text/html": [
       "<table class=\"simpletable\">\n",
       "<caption>Generalized Linear Model Regression Results</caption>\n",
       "<tr>\n",
       "  <th>Dep. Variable:</th>       <td>LINC01409</td>    <th>  No. Observations:  </th>  <td>    10</td> \n",
       "</tr>\n",
       "<tr>\n",
       "  <th>Model:</th>                  <td>GLM</td>       <th>  Df Residuals:      </th>  <td>     8</td> \n",
       "</tr>\n",
       "<tr>\n",
       "  <th>Model Family:</th>    <td>NegativeBinomial</td> <th>  Df Model:          </th>  <td>     1</td> \n",
       "</tr>\n",
       "<tr>\n",
       "  <th>Link Function:</th>          <td>Log</td>       <th>  Scale:             </th> <td>  1.0000</td>\n",
       "</tr>\n",
       "<tr>\n",
       "  <th>Method:</th>                <td>IRLS</td>       <th>  Log-Likelihood:    </th> <td> -66.919</td>\n",
       "</tr>\n",
       "<tr>\n",
       "  <th>Date:</th>            <td>Wed, 28 Jun 2023</td> <th>  Deviance:          </th> <td>  9.4006</td>\n",
       "</tr>\n",
       "<tr>\n",
       "  <th>Time:</th>                <td>22:31:43</td>     <th>  Pearson chi2:      </th>  <td>  9.37</td> \n",
       "</tr>\n",
       "<tr>\n",
       "  <th>No. Iterations:</th>          <td>4</td>        <th>  Pseudo R-squ. (CS):</th>  <td>0.2345</td> \n",
       "</tr>\n",
       "<tr>\n",
       "  <th>Covariance Type:</th>     <td>nonrobust</td>    <th>                     </th>     <td> </td>   \n",
       "</tr>\n",
       "</table>\n",
       "<table class=\"simpletable\">\n",
       "<tr>\n",
       "      <td></td>         <th>coef</th>     <th>std err</th>      <th>z</th>      <th>P>|z|</th>  <th>[0.025</th>    <th>0.975]</th>  \n",
       "</tr>\n",
       "<tr>\n",
       "  <th>treatment</th> <td>    0.1371</td> <td>    0.083</td> <td>    1.646</td> <td> 0.100</td> <td>   -0.026</td> <td>    0.300</td>\n",
       "</tr>\n",
       "<tr>\n",
       "  <th>intercept</th> <td>  -11.7864</td> <td>    0.053</td> <td> -222.744</td> <td> 0.000</td> <td>  -11.890</td> <td>  -11.683</td>\n",
       "</tr>\n",
       "</table>"
      ],
      "text/plain": [
       "<class 'statsmodels.iolib.summary.Summary'>\n",
       "\"\"\"\n",
       "                 Generalized Linear Model Regression Results                  \n",
       "==============================================================================\n",
       "Dep. Variable:              LINC01409   No. Observations:                   10\n",
       "Model:                            GLM   Df Residuals:                        8\n",
       "Model Family:        NegativeBinomial   Df Model:                            1\n",
       "Link Function:                    Log   Scale:                          1.0000\n",
       "Method:                          IRLS   Log-Likelihood:                -66.919\n",
       "Date:                Wed, 28 Jun 2023   Deviance:                       9.4006\n",
       "Time:                        22:31:43   Pearson chi2:                     9.37\n",
       "No. Iterations:                     4   Pseudo R-squ. (CS):             0.2345\n",
       "Covariance Type:            nonrobust                                         \n",
       "==============================================================================\n",
       "                 coef    std err          z      P>|z|      [0.025      0.975]\n",
       "------------------------------------------------------------------------------\n",
       "treatment      0.1371      0.083      1.646      0.100      -0.026       0.300\n",
       "intercept    -11.7864      0.053   -222.744      0.000     -11.890     -11.683\n",
       "==============================================================================\n",
       "\"\"\""
      ]
     },
     "execution_count": 142,
     "metadata": {},
     "output_type": "execute_result"
    }
   ],
   "source": [
    "fit_nb(\n",
    "    expr.iloc[:, [idx]],\n",
    "    design_matrix, \n",
    "    np.log(model.estimates['total_umi']['total_umi'].values),\n",
    "    weights.iloc[:, idx]).summary()"
   ]
  },
  {
   "cell_type": "code",
   "execution_count": 143,
   "id": "19ca3726-adb2-43bb-ba4b-789076e56082",
   "metadata": {},
   "outputs": [
    {
     "name": "stdout",
     "output_type": "stream",
     "text": [
      "CPU times: user 3.31 ms, sys: 3.77 ms, total: 7.08 ms\n",
      "Wall time: 6.63 ms\n"
     ]
    }
   ],
   "source": [
    "%%time\n",
    "\n",
    "\n",
    "\n",
    "poi = sm.GLM(\n",
    "    expr.iloc[:, [idx]],\n",
    "    design_matrix, \n",
    "    offset=np.log(model.estimates['total_umi']['total_umi'].values),\n",
    "    var_weights=weights.iloc[:, idx],\n",
    "    family=sm.families.Poisson()).fit()\n",
    "\n",
    "mu = poi.predict()\n",
    "resid = poi.resid_response\n",
    "df_resid=poi.df_resid\n",
    "\n",
    "alpha = ((resid**2 / mu - 1) / mu).sum() / df_resid\n",
    "nb = sm.GLM(\n",
    "    expr.iloc[:, [idx]],\n",
    "    design_matrix, \n",
    "    offset=np.log(model.estimates['total_umi']['total_umi'].values),\n",
    "    var_weights=weights.iloc[:, idx],\n",
    "    family=sm.families.NegativeBinomial(alpha=alpha))\\\n",
    "    .fit(start_params=poi.params)"
   ]
  },
  {
   "cell_type": "code",
   "execution_count": 113,
   "id": "89d64f00-d1fd-467e-b354-2cb252e5550c",
   "metadata": {},
   "outputs": [
    {
     "data": {
      "text/html": [
       "<table class=\"simpletable\">\n",
       "<caption>Generalized Linear Model Regression Results</caption>\n",
       "<tr>\n",
       "  <th>Dep. Variable:</th>       <td>LINC01409</td>    <th>  No. Observations:  </th>  <td>    10</td> \n",
       "</tr>\n",
       "<tr>\n",
       "  <th>Model:</th>                  <td>GLM</td>       <th>  Df Residuals:      </th>  <td>     8</td> \n",
       "</tr>\n",
       "<tr>\n",
       "  <th>Model Family:</th>    <td>NegativeBinomial</td> <th>  Df Model:          </th>  <td>     1</td> \n",
       "</tr>\n",
       "<tr>\n",
       "  <th>Link Function:</th>          <td>Log</td>       <th>  Scale:             </th> <td>  1.0000</td>\n",
       "</tr>\n",
       "<tr>\n",
       "  <th>Method:</th>                <td>IRLS</td>       <th>  Log-Likelihood:    </th> <td> -87.940</td>\n",
       "</tr>\n",
       "<tr>\n",
       "  <th>Date:</th>            <td>Wed, 28 Jun 2023</td> <th>  Deviance:          </th> <td> 0.20952</td>\n",
       "</tr>\n",
       "<tr>\n",
       "  <th>Time:</th>                <td>22:20:05</td>     <th>  Pearson chi2:      </th>  <td> 0.204</td> \n",
       "</tr>\n",
       "<tr>\n",
       "  <th>No. Iterations:</th>          <td>5</td>        <th>  Pseudo R-squ. (CS):</th> <td>0.008176</td>\n",
       "</tr>\n",
       "<tr>\n",
       "  <th>Covariance Type:</th>     <td>nonrobust</td>    <th>                     </th>     <td> </td>   \n",
       "</tr>\n",
       "</table>\n",
       "<table class=\"simpletable\">\n",
       "<tr>\n",
       "      <td></td>         <th>coef</th>     <th>std err</th>      <th>z</th>      <th>P>|z|</th>  <th>[0.025</th>    <th>0.975]</th>  \n",
       "</tr>\n",
       "<tr>\n",
       "  <th>treatment</th> <td>    0.1621</td> <td>    0.567</td> <td>    0.286</td> <td> 0.775</td> <td>   -0.950</td> <td>    1.274</td>\n",
       "</tr>\n",
       "<tr>\n",
       "  <th>intercept</th> <td>  -11.7785</td> <td>    0.370</td> <td>  -31.869</td> <td> 0.000</td> <td>  -12.503</td> <td>  -11.054</td>\n",
       "</tr>\n",
       "</table>"
      ],
      "text/plain": [
       "<class 'statsmodels.iolib.summary.Summary'>\n",
       "\"\"\"\n",
       "                 Generalized Linear Model Regression Results                  \n",
       "==============================================================================\n",
       "Dep. Variable:              LINC01409   No. Observations:                   10\n",
       "Model:                            GLM   Df Residuals:                        8\n",
       "Model Family:        NegativeBinomial   Df Model:                            1\n",
       "Link Function:                    Log   Scale:                          1.0000\n",
       "Method:                          IRLS   Log-Likelihood:                -87.940\n",
       "Date:                Wed, 28 Jun 2023   Deviance:                      0.20952\n",
       "Time:                        22:20:05   Pearson chi2:                    0.204\n",
       "No. Iterations:                     5   Pseudo R-squ. (CS):           0.008176\n",
       "Covariance Type:            nonrobust                                         \n",
       "==============================================================================\n",
       "                 coef    std err          z      P>|z|      [0.025      0.975]\n",
       "------------------------------------------------------------------------------\n",
       "treatment      0.1621      0.567      0.286      0.775      -0.950       1.274\n",
       "intercept    -11.7785      0.370    -31.869      0.000     -12.503     -11.054\n",
       "==============================================================================\n",
       "\"\"\""
      ]
     },
     "execution_count": 113,
     "metadata": {},
     "output_type": "execute_result"
    }
   ],
   "source": [
    "lm.fit().summary()"
   ]
  },
  {
   "cell_type": "code",
   "execution_count": 110,
   "id": "01999743-ca99-456a-b106-a7ae7a00fb1d",
   "metadata": {},
   "outputs": [
    {
     "data": {
      "text/html": [
       "<div>\n",
       "<style scoped>\n",
       "    .dataframe tbody tr th:only-of-type {\n",
       "        vertical-align: middle;\n",
       "    }\n",
       "\n",
       "    .dataframe tbody tr th {\n",
       "        vertical-align: top;\n",
       "    }\n",
       "\n",
       "    .dataframe thead th {\n",
       "        text-align: right;\n",
       "    }\n",
       "</style>\n",
       "<table border=\"1\" class=\"dataframe\">\n",
       "  <thead>\n",
       "    <tr style=\"text-align: right;\">\n",
       "      <th></th>\n",
       "      <th>treatment</th>\n",
       "      <th>intercept</th>\n",
       "    </tr>\n",
       "  </thead>\n",
       "  <tbody>\n",
       "    <tr>\n",
       "      <th>memento_group^d2513^lambda</th>\n",
       "      <td>1</td>\n",
       "      <td>1</td>\n",
       "    </tr>\n",
       "    <tr>\n",
       "      <th>memento_group^d2513^alpha</th>\n",
       "      <td>0</td>\n",
       "      <td>1</td>\n",
       "    </tr>\n",
       "    <tr>\n",
       "      <th>memento_group^d2614^alpha</th>\n",
       "      <td>0</td>\n",
       "      <td>1</td>\n",
       "    </tr>\n",
       "    <tr>\n",
       "      <th>memento_group^d2614^gamma</th>\n",
       "      <td>0</td>\n",
       "      <td>1</td>\n",
       "    </tr>\n",
       "    <tr>\n",
       "      <th>memento_group^d2513^beta</th>\n",
       "      <td>1</td>\n",
       "      <td>1</td>\n",
       "    </tr>\n",
       "    <tr>\n",
       "      <th>memento_group^d2513^gamma</th>\n",
       "      <td>0</td>\n",
       "      <td>1</td>\n",
       "    </tr>\n",
       "    <tr>\n",
       "      <th>memento_group^d2614^lambda</th>\n",
       "      <td>0</td>\n",
       "      <td>1</td>\n",
       "    </tr>\n",
       "    <tr>\n",
       "      <th>memento_group^d2614^beta</th>\n",
       "      <td>1</td>\n",
       "      <td>1</td>\n",
       "    </tr>\n",
       "    <tr>\n",
       "      <th>memento_group^d2513^control</th>\n",
       "      <td>1</td>\n",
       "      <td>1</td>\n",
       "    </tr>\n",
       "    <tr>\n",
       "      <th>memento_group^d2614^control</th>\n",
       "      <td>0</td>\n",
       "      <td>1</td>\n",
       "    </tr>\n",
       "  </tbody>\n",
       "</table>\n",
       "</div>"
      ],
      "text/plain": [
       "                             treatment  intercept\n",
       "memento_group^d2513^lambda           1          1\n",
       "memento_group^d2513^alpha            0          1\n",
       "memento_group^d2614^alpha            0          1\n",
       "memento_group^d2614^gamma            0          1\n",
       "memento_group^d2513^beta             1          1\n",
       "memento_group^d2513^gamma            0          1\n",
       "memento_group^d2614^lambda           0          1\n",
       "memento_group^d2614^beta             1          1\n",
       "memento_group^d2513^control          1          1\n",
       "memento_group^d2614^control          0          1"
      ]
     },
     "execution_count": 110,
     "metadata": {},
     "output_type": "execute_result"
    }
   ],
   "source": [
    "design_matrix"
   ]
  },
  {
   "cell_type": "code",
   "execution_count": 48,
   "id": "6cfb7cd7-a976-4a01-b9f0-e7c530dc974e",
   "metadata": {},
   "outputs": [
    {
     "data": {
      "text/html": [
       "<div>\n",
       "<style scoped>\n",
       "    .dataframe tbody tr th:only-of-type {\n",
       "        vertical-align: middle;\n",
       "    }\n",
       "\n",
       "    .dataframe tbody tr th {\n",
       "        vertical-align: top;\n",
       "    }\n",
       "\n",
       "    .dataframe thead th {\n",
       "        text-align: right;\n",
       "    }\n",
       "</style>\n",
       "<table border=\"1\" class=\"dataframe\">\n",
       "  <thead>\n",
       "    <tr style=\"text-align: right;\">\n",
       "      <th></th>\n",
       "      <th>LINC01409</th>\n",
       "      <th>LINC01128</th>\n",
       "      <th>FAM41C</th>\n",
       "      <th>NOC2L</th>\n",
       "      <th>KLHL17</th>\n",
       "      <th>PLEKHN1</th>\n",
       "      <th>AL645608.7</th>\n",
       "      <th>HES4</th>\n",
       "      <th>ISG15</th>\n",
       "      <th>AGRN</th>\n",
       "      <th>...</th>\n",
       "      <th>MT-ND4L</th>\n",
       "      <th>MT-ND4</th>\n",
       "      <th>MT-ND5</th>\n",
       "      <th>MT-ND6</th>\n",
       "      <th>MT-CYB</th>\n",
       "      <th>AL354822.1</th>\n",
       "      <th>AL592183.1</th>\n",
       "      <th>AC240274.1</th>\n",
       "      <th>AC007325.4</th>\n",
       "      <th>AC007325.2</th>\n",
       "    </tr>\n",
       "  </thead>\n",
       "  <tbody>\n",
       "    <tr>\n",
       "      <th>memento_group^d2513^lambda</th>\n",
       "      <td>616.464050</td>\n",
       "      <td>415.312622</td>\n",
       "      <td>299.225250</td>\n",
       "      <td>2116.593262</td>\n",
       "      <td>227.171005</td>\n",
       "      <td>905.681763</td>\n",
       "      <td>386.290771</td>\n",
       "      <td>26673.078125</td>\n",
       "      <td>1.372773e+05</td>\n",
       "      <td>2995.254639</td>\n",
       "      <td>...</td>\n",
       "      <td>18393.845703</td>\n",
       "      <td>372033.031250</td>\n",
       "      <td>106805.398438</td>\n",
       "      <td>16415.357422</td>\n",
       "      <td>525649.687500</td>\n",
       "      <td>238.179291</td>\n",
       "      <td>484.364594</td>\n",
       "      <td>266.200378</td>\n",
       "      <td>438.329956</td>\n",
       "      <td>202.152161</td>\n",
       "    </tr>\n",
       "    <tr>\n",
       "      <th>memento_group^d2513^alpha</th>\n",
       "      <td>562.351196</td>\n",
       "      <td>349.009827</td>\n",
       "      <td>188.486038</td>\n",
       "      <td>2024.671387</td>\n",
       "      <td>214.376968</td>\n",
       "      <td>1638.378662</td>\n",
       "      <td>534.388977</td>\n",
       "      <td>58378.890625</td>\n",
       "      <td>7.846166e+05</td>\n",
       "      <td>4438.742676</td>\n",
       "      <td>...</td>\n",
       "      <td>19013.269531</td>\n",
       "      <td>350050.687500</td>\n",
       "      <td>110214.617188</td>\n",
       "      <td>19982.626953</td>\n",
       "      <td>457985.843750</td>\n",
       "      <td>221.626434</td>\n",
       "      <td>595.491577</td>\n",
       "      <td>256.838135</td>\n",
       "      <td>466.036926</td>\n",
       "      <td>213.341339</td>\n",
       "    </tr>\n",
       "    <tr>\n",
       "      <th>memento_group^d2614^alpha</th>\n",
       "      <td>749.359253</td>\n",
       "      <td>414.262268</td>\n",
       "      <td>233.158081</td>\n",
       "      <td>2785.968018</td>\n",
       "      <td>232.073624</td>\n",
       "      <td>2112.520752</td>\n",
       "      <td>488.005280</td>\n",
       "      <td>98711.546875</td>\n",
       "      <td>1.129824e+06</td>\n",
       "      <td>5374.565430</td>\n",
       "      <td>...</td>\n",
       "      <td>30381.041016</td>\n",
       "      <td>618881.812500</td>\n",
       "      <td>181654.015625</td>\n",
       "      <td>24307.001953</td>\n",
       "      <td>647822.687500</td>\n",
       "      <td>254.847214</td>\n",
       "      <td>136.641495</td>\n",
       "      <td>228.820267</td>\n",
       "      <td>348.110443</td>\n",
       "      <td>217.975693</td>\n",
       "    </tr>\n",
       "    <tr>\n",
       "      <th>memento_group^d2614^gamma</th>\n",
       "      <td>621.043030</td>\n",
       "      <td>364.456940</td>\n",
       "      <td>220.978195</td>\n",
       "      <td>2160.559326</td>\n",
       "      <td>186.417633</td>\n",
       "      <td>1035.769897</td>\n",
       "      <td>316.281586</td>\n",
       "      <td>30780.902344</td>\n",
       "      <td>8.706751e+04</td>\n",
       "      <td>2537.583740</td>\n",
       "      <td>...</td>\n",
       "      <td>26350.865234</td>\n",
       "      <td>625070.875000</td>\n",
       "      <td>175277.609375</td>\n",
       "      <td>15735.532227</td>\n",
       "      <td>732543.812500</td>\n",
       "      <td>205.268860</td>\n",
       "      <td>154.998932</td>\n",
       "      <td>167.566406</td>\n",
       "      <td>237.734848</td>\n",
       "      <td>116.249199</td>\n",
       "    </tr>\n",
       "    <tr>\n",
       "      <th>memento_group^d2513^beta</th>\n",
       "      <td>626.418396</td>\n",
       "      <td>349.388489</td>\n",
       "      <td>239.816940</td>\n",
       "      <td>2135.611328</td>\n",
       "      <td>196.401810</td>\n",
       "      <td>1567.079834</td>\n",
       "      <td>629.519531</td>\n",
       "      <td>70510.320312</td>\n",
       "      <td>9.666938e+05</td>\n",
       "      <td>4759.125977</td>\n",
       "      <td>...</td>\n",
       "      <td>20355.498047</td>\n",
       "      <td>369992.062500</td>\n",
       "      <td>117563.015625</td>\n",
       "      <td>22912.857422</td>\n",
       "      <td>481184.468750</td>\n",
       "      <td>253.254959</td>\n",
       "      <td>696.709595</td>\n",
       "      <td>293.569031</td>\n",
       "      <td>574.733765</td>\n",
       "      <td>225.345245</td>\n",
       "    </tr>\n",
       "    <tr>\n",
       "      <th>memento_group^d2513^gamma</th>\n",
       "      <td>720.975708</td>\n",
       "      <td>463.049194</td>\n",
       "      <td>352.364197</td>\n",
       "      <td>2634.100098</td>\n",
       "      <td>264.019287</td>\n",
       "      <td>1160.669312</td>\n",
       "      <td>553.425049</td>\n",
       "      <td>31323.855469</td>\n",
       "      <td>9.142176e+04</td>\n",
       "      <td>3099.180176</td>\n",
       "      <td>...</td>\n",
       "      <td>23756.658203</td>\n",
       "      <td>506021.375000</td>\n",
       "      <td>142226.171875</td>\n",
       "      <td>21315.496094</td>\n",
       "      <td>735781.125000</td>\n",
       "      <td>268.081116</td>\n",
       "      <td>682.388306</td>\n",
       "      <td>315.807678</td>\n",
       "      <td>489.451111</td>\n",
       "      <td>222.385483</td>\n",
       "    </tr>\n",
       "    <tr>\n",
       "      <th>memento_group^d2614^lambda</th>\n",
       "      <td>650.988586</td>\n",
       "      <td>420.364655</td>\n",
       "      <td>284.086823</td>\n",
       "      <td>2428.889893</td>\n",
       "      <td>234.817169</td>\n",
       "      <td>984.345154</td>\n",
       "      <td>366.901794</td>\n",
       "      <td>34616.664062</td>\n",
       "      <td>1.259029e+05</td>\n",
       "      <td>2989.725586</td>\n",
       "      <td>...</td>\n",
       "      <td>26438.945312</td>\n",
       "      <td>621180.500000</td>\n",
       "      <td>171310.656250</td>\n",
       "      <td>16048.285156</td>\n",
       "      <td>745846.312500</td>\n",
       "      <td>205.465012</td>\n",
       "      <td>162.485077</td>\n",
       "      <td>189.740646</td>\n",
       "      <td>257.879547</td>\n",
       "      <td>158.291931</td>\n",
       "    </tr>\n",
       "    <tr>\n",
       "      <th>memento_group^d2614^beta</th>\n",
       "      <td>802.833252</td>\n",
       "      <td>406.427368</td>\n",
       "      <td>246.083405</td>\n",
       "      <td>2566.616455</td>\n",
       "      <td>236.061920</td>\n",
       "      <td>1772.691284</td>\n",
       "      <td>411.994843</td>\n",
       "      <td>97571.515625</td>\n",
       "      <td>1.111560e+06</td>\n",
       "      <td>5648.783203</td>\n",
       "      <td>...</td>\n",
       "      <td>29136.943359</td>\n",
       "      <td>607100.000000</td>\n",
       "      <td>178645.421875</td>\n",
       "      <td>22870.167969</td>\n",
       "      <td>640889.187500</td>\n",
       "      <td>234.948425</td>\n",
       "      <td>199.316422</td>\n",
       "      <td>216.018936</td>\n",
       "      <td>390.838348</td>\n",
       "      <td>163.684433</td>\n",
       "    </tr>\n",
       "    <tr>\n",
       "      <th>memento_group^d2513^control</th>\n",
       "      <td>111.890884</td>\n",
       "      <td>60.421078</td>\n",
       "      <td>89.512711</td>\n",
       "      <td>275.251587</td>\n",
       "      <td>36.923992</td>\n",
       "      <td>90.631615</td>\n",
       "      <td>15.664724</td>\n",
       "      <td>3476.449707</td>\n",
       "      <td>6.023086e+03</td>\n",
       "      <td>441.969025</td>\n",
       "      <td>...</td>\n",
       "      <td>2944.968018</td>\n",
       "      <td>55547.113281</td>\n",
       "      <td>22798.886719</td>\n",
       "      <td>2116.975586</td>\n",
       "      <td>84901.687500</td>\n",
       "      <td>32.448357</td>\n",
       "      <td>98.463982</td>\n",
       "      <td>51.469807</td>\n",
       "      <td>101.820709</td>\n",
       "      <td>30.210539</td>\n",
       "    </tr>\n",
       "    <tr>\n",
       "      <th>memento_group^d2614^control</th>\n",
       "      <td>153.860382</td>\n",
       "      <td>103.988388</td>\n",
       "      <td>77.460739</td>\n",
       "      <td>541.164062</td>\n",
       "      <td>67.910782</td>\n",
       "      <td>215.404526</td>\n",
       "      <td>115.660561</td>\n",
       "      <td>6349.658691</td>\n",
       "      <td>5.493346e+03</td>\n",
       "      <td>499.780945</td>\n",
       "      <td>...</td>\n",
       "      <td>5889.138184</td>\n",
       "      <td>143710.890625</td>\n",
       "      <td>40041.898438</td>\n",
       "      <td>3122.834961</td>\n",
       "      <td>180344.515625</td>\n",
       "      <td>44.566456</td>\n",
       "      <td>33.955391</td>\n",
       "      <td>46.688667</td>\n",
       "      <td>63.666363</td>\n",
       "      <td>33.955391</td>\n",
       "    </tr>\n",
       "  </tbody>\n",
       "</table>\n",
       "<p>10 rows × 13286 columns</p>\n",
       "</div>"
      ],
      "text/plain": [
       "                              LINC01409   LINC01128      FAM41C        NOC2L   \n",
       "memento_group^d2513^lambda   616.464050  415.312622  299.225250  2116.593262  \\\n",
       "memento_group^d2513^alpha    562.351196  349.009827  188.486038  2024.671387   \n",
       "memento_group^d2614^alpha    749.359253  414.262268  233.158081  2785.968018   \n",
       "memento_group^d2614^gamma    621.043030  364.456940  220.978195  2160.559326   \n",
       "memento_group^d2513^beta     626.418396  349.388489  239.816940  2135.611328   \n",
       "memento_group^d2513^gamma    720.975708  463.049194  352.364197  2634.100098   \n",
       "memento_group^d2614^lambda   650.988586  420.364655  284.086823  2428.889893   \n",
       "memento_group^d2614^beta     802.833252  406.427368  246.083405  2566.616455   \n",
       "memento_group^d2513^control  111.890884   60.421078   89.512711   275.251587   \n",
       "memento_group^d2614^control  153.860382  103.988388   77.460739   541.164062   \n",
       "\n",
       "                                 KLHL17      PLEKHN1  AL645608.7   \n",
       "memento_group^d2513^lambda   227.171005   905.681763  386.290771  \\\n",
       "memento_group^d2513^alpha    214.376968  1638.378662  534.388977   \n",
       "memento_group^d2614^alpha    232.073624  2112.520752  488.005280   \n",
       "memento_group^d2614^gamma    186.417633  1035.769897  316.281586   \n",
       "memento_group^d2513^beta     196.401810  1567.079834  629.519531   \n",
       "memento_group^d2513^gamma    264.019287  1160.669312  553.425049   \n",
       "memento_group^d2614^lambda   234.817169   984.345154  366.901794   \n",
       "memento_group^d2614^beta     236.061920  1772.691284  411.994843   \n",
       "memento_group^d2513^control   36.923992    90.631615   15.664724   \n",
       "memento_group^d2614^control   67.910782   215.404526  115.660561   \n",
       "\n",
       "                                     HES4         ISG15         AGRN  ...   \n",
       "memento_group^d2513^lambda   26673.078125  1.372773e+05  2995.254639  ...  \\\n",
       "memento_group^d2513^alpha    58378.890625  7.846166e+05  4438.742676  ...   \n",
       "memento_group^d2614^alpha    98711.546875  1.129824e+06  5374.565430  ...   \n",
       "memento_group^d2614^gamma    30780.902344  8.706751e+04  2537.583740  ...   \n",
       "memento_group^d2513^beta     70510.320312  9.666938e+05  4759.125977  ...   \n",
       "memento_group^d2513^gamma    31323.855469  9.142176e+04  3099.180176  ...   \n",
       "memento_group^d2614^lambda   34616.664062  1.259029e+05  2989.725586  ...   \n",
       "memento_group^d2614^beta     97571.515625  1.111560e+06  5648.783203  ...   \n",
       "memento_group^d2513^control   3476.449707  6.023086e+03   441.969025  ...   \n",
       "memento_group^d2614^control   6349.658691  5.493346e+03   499.780945  ...   \n",
       "\n",
       "                                  MT-ND4L         MT-ND4         MT-ND5   \n",
       "memento_group^d2513^lambda   18393.845703  372033.031250  106805.398438  \\\n",
       "memento_group^d2513^alpha    19013.269531  350050.687500  110214.617188   \n",
       "memento_group^d2614^alpha    30381.041016  618881.812500  181654.015625   \n",
       "memento_group^d2614^gamma    26350.865234  625070.875000  175277.609375   \n",
       "memento_group^d2513^beta     20355.498047  369992.062500  117563.015625   \n",
       "memento_group^d2513^gamma    23756.658203  506021.375000  142226.171875   \n",
       "memento_group^d2614^lambda   26438.945312  621180.500000  171310.656250   \n",
       "memento_group^d2614^beta     29136.943359  607100.000000  178645.421875   \n",
       "memento_group^d2513^control   2944.968018   55547.113281   22798.886719   \n",
       "memento_group^d2614^control   5889.138184  143710.890625   40041.898438   \n",
       "\n",
       "                                   MT-ND6         MT-CYB  AL354822.1   \n",
       "memento_group^d2513^lambda   16415.357422  525649.687500  238.179291  \\\n",
       "memento_group^d2513^alpha    19982.626953  457985.843750  221.626434   \n",
       "memento_group^d2614^alpha    24307.001953  647822.687500  254.847214   \n",
       "memento_group^d2614^gamma    15735.532227  732543.812500  205.268860   \n",
       "memento_group^d2513^beta     22912.857422  481184.468750  253.254959   \n",
       "memento_group^d2513^gamma    21315.496094  735781.125000  268.081116   \n",
       "memento_group^d2614^lambda   16048.285156  745846.312500  205.465012   \n",
       "memento_group^d2614^beta     22870.167969  640889.187500  234.948425   \n",
       "memento_group^d2513^control   2116.975586   84901.687500   32.448357   \n",
       "memento_group^d2614^control   3122.834961  180344.515625   44.566456   \n",
       "\n",
       "                             AL592183.1  AC240274.1  AC007325.4  AC007325.2  \n",
       "memento_group^d2513^lambda   484.364594  266.200378  438.329956  202.152161  \n",
       "memento_group^d2513^alpha    595.491577  256.838135  466.036926  213.341339  \n",
       "memento_group^d2614^alpha    136.641495  228.820267  348.110443  217.975693  \n",
       "memento_group^d2614^gamma    154.998932  167.566406  237.734848  116.249199  \n",
       "memento_group^d2513^beta     696.709595  293.569031  574.733765  225.345245  \n",
       "memento_group^d2513^gamma    682.388306  315.807678  489.451111  222.385483  \n",
       "memento_group^d2614^lambda   162.485077  189.740646  257.879547  158.291931  \n",
       "memento_group^d2614^beta     199.316422  216.018936  390.838348  163.684433  \n",
       "memento_group^d2513^control   98.463982   51.469807  101.820709   30.210539  \n",
       "memento_group^d2614^control   33.955391   46.688667   63.666363   33.955391  \n",
       "\n",
       "[10 rows x 13286 columns]"
      ]
     },
     "execution_count": 48,
     "metadata": {},
     "output_type": "execute_result"
    }
   ],
   "source": [
    "expr"
   ]
  },
  {
   "cell_type": "code",
   "execution_count": 47,
   "id": "686da284-a422-476a-bce5-151af48bbf32",
   "metadata": {},
   "outputs": [
    {
     "data": {
      "text/html": [
       "<table class=\"simpletable\">\n",
       "<caption>Generalized Linear Model Regression Results</caption>\n",
       "<tr>\n",
       "  <th>Dep. Variable:</th>       <td>LINC01409</td>    <th>  No. Observations:  </th>  <td>    10</td> \n",
       "</tr>\n",
       "<tr>\n",
       "  <th>Model:</th>                  <td>GLM</td>       <th>  Df Residuals:      </th>  <td>     8</td> \n",
       "</tr>\n",
       "<tr>\n",
       "  <th>Model Family:</th>    <td>NegativeBinomial</td> <th>  Df Model:          </th>  <td>     1</td> \n",
       "</tr>\n",
       "<tr>\n",
       "  <th>Link Function:</th>          <td>Log</td>       <th>  Scale:             </th> <td>  1.0000</td>\n",
       "</tr>\n",
       "<tr>\n",
       "  <th>Method:</th>                <td>IRLS</td>       <th>  Log-Likelihood:    </th> <td>  0.0000</td>\n",
       "</tr>\n",
       "<tr>\n",
       "  <th>Date:</th>            <td>Wed, 28 Jun 2023</td> <th>  Deviance:          </th> <td>  0.0000</td>\n",
       "</tr>\n",
       "<tr>\n",
       "  <th>Time:</th>                <td>22:03:51</td>     <th>  Pearson chi2:      </th>  <td>  0.00</td> \n",
       "</tr>\n",
       "<tr>\n",
       "  <th>No. Iterations:</th>          <td>1</td>        <th>  Pseudo R-squ. (CS):</th>  <td> 0.000</td> \n",
       "</tr>\n",
       "<tr>\n",
       "  <th>Covariance Type:</th>     <td>nonrobust</td>    <th>                     </th>     <td> </td>   \n",
       "</tr>\n",
       "</table>\n",
       "<table class=\"simpletable\">\n",
       "<tr>\n",
       "      <td></td>         <th>coef</th>     <th>std err</th>      <th>z</th>      <th>P>|z|</th>  <th>[0.025</th>    <th>0.975]</th>  \n",
       "</tr>\n",
       "<tr>\n",
       "  <th>treatment</th> <td>         0</td> <td>        0</td> <td>      nan</td> <td>   nan</td> <td>        0</td> <td>        0</td>\n",
       "</tr>\n",
       "<tr>\n",
       "  <th>intercept</th> <td>         0</td> <td>        0</td> <td>      nan</td> <td>   nan</td> <td>        0</td> <td>        0</td>\n",
       "</tr>\n",
       "</table>"
      ],
      "text/plain": [
       "<class 'statsmodels.iolib.summary.Summary'>\n",
       "\"\"\"\n",
       "                 Generalized Linear Model Regression Results                  \n",
       "==============================================================================\n",
       "Dep. Variable:              LINC01409   No. Observations:                   10\n",
       "Model:                            GLM   Df Residuals:                        8\n",
       "Model Family:        NegativeBinomial   Df Model:                            1\n",
       "Link Function:                    Log   Scale:                          1.0000\n",
       "Method:                          IRLS   Log-Likelihood:                 0.0000\n",
       "Date:                Wed, 28 Jun 2023   Deviance:                       0.0000\n",
       "Time:                        22:03:51   Pearson chi2:                     0.00\n",
       "No. Iterations:                     1   Pseudo R-squ. (CS):              0.000\n",
       "Covariance Type:            nonrobust                                         \n",
       "==============================================================================\n",
       "                 coef    std err          z      P>|z|      [0.025      0.975]\n",
       "------------------------------------------------------------------------------\n",
       "treatment           0          0        nan        nan           0           0\n",
       "intercept           0          0        nan        nan           0           0\n",
       "==============================================================================\n",
       "\"\"\""
      ]
     },
     "execution_count": 47,
     "metadata": {},
     "output_type": "execute_result"
    }
   ],
   "source": [
    "model.fit().summary()"
   ]
  },
  {
   "cell_type": "code",
   "execution_count": null,
   "id": "ac8be034-f200-4f28-8b81-8d955fb161d7",
   "metadata": {},
   "outputs": [],
   "source": []
  },
  {
   "cell_type": "code",
   "execution_count": null,
   "id": "ad0ed818-17e9-4ed9-b5b4-61740b9191e7",
   "metadata": {},
   "outputs": [],
   "source": []
  },
  {
   "cell_type": "code",
   "execution_count": null,
   "id": "b0a67a1b-4051-4aa6-9823-5b362226ccd9",
   "metadata": {},
   "outputs": [],
   "source": []
  },
  {
   "cell_type": "code",
   "execution_count": 8,
   "id": "2b83c5e7-d19f-4230-b90c-81de6dbc2572",
   "metadata": {},
   "outputs": [],
   "source": [
    "import statsmodels.api as sm"
   ]
  },
  {
   "cell_type": "code",
   "execution_count": 9,
   "id": "4224eacc-4454-4fe4-a84b-7f9bc12b98e7",
   "metadata": {},
   "outputs": [],
   "source": [
    "import statsmodels.discrete.discrete_model as discrete"
   ]
  },
  {
   "cell_type": "code",
   "execution_count": 85,
   "id": "8ded83e4-4001-4923-90e6-2ad347160050",
   "metadata": {},
   "outputs": [],
   "source": [
    "X = np.array([0, 0, 0, 0,0, 0, 1, 1, 1, 1, 1,1]).reshape(-1,1)\n",
    "X = sm.add_constant(X)\n",
    "beta = np.array([1, 2]).reshape(-1, 1)\n",
    "Y = stats.poisson.rvs(np.exp(X@beta))"
   ]
  },
  {
   "cell_type": "code",
   "execution_count": 86,
   "id": "ebdf0d09-bfa4-44d9-b479-f15f00b2cbc8",
   "metadata": {},
   "outputs": [
    {
     "name": "stdout",
     "output_type": "stream",
     "text": [
      "Optimization terminated successfully.\n",
      "         Current function value: 2.542510\n",
      "         Iterations: 18\n",
      "         Function evaluations: 20\n",
      "         Gradient evaluations: 20\n",
      "CPU times: user 20 ms, sys: 7.92 ms, total: 27.9 ms\n",
      "Wall time: 15.1 ms\n"
     ]
    },
    {
     "data": {
      "text/html": [
       "<table class=\"simpletable\">\n",
       "<caption>NegativeBinomial Regression Results</caption>\n",
       "<tr>\n",
       "  <th>Dep. Variable:</th>           <td>y</td>        <th>  No. Observations:  </th>  <td>    12</td>  \n",
       "</tr>\n",
       "<tr>\n",
       "  <th>Model:</th>           <td>NegativeBinomial</td> <th>  Df Residuals:      </th>  <td>    10</td>  \n",
       "</tr>\n",
       "<tr>\n",
       "  <th>Method:</th>                 <td>MLE</td>       <th>  Df Model:          </th>  <td>     1</td>  \n",
       "</tr>\n",
       "<tr>\n",
       "  <th>Date:</th>            <td>Wed, 28 Jun 2023</td> <th>  Pseudo R-squ.:     </th>  <td>0.2902</td>  \n",
       "</tr>\n",
       "<tr>\n",
       "  <th>Time:</th>                <td>17:30:44</td>     <th>  Log-Likelihood:    </th> <td> -30.510</td> \n",
       "</tr>\n",
       "<tr>\n",
       "  <th>converged:</th>             <td>True</td>       <th>  LL-Null:           </th> <td> -42.985</td> \n",
       "</tr>\n",
       "<tr>\n",
       "  <th>Covariance Type:</th>     <td>nonrobust</td>    <th>  LLR p-value:       </th> <td>5.882e-07</td>\n",
       "</tr>\n",
       "</table>\n",
       "<table class=\"simpletable\">\n",
       "<tr>\n",
       "    <td></td>       <th>coef</th>     <th>std err</th>      <th>z</th>      <th>P>|z|</th>  <th>[0.025</th>    <th>0.975]</th>  \n",
       "</tr>\n",
       "<tr>\n",
       "  <th>const</th> <td>    1.1527</td> <td>    0.229</td> <td>    5.024</td> <td> 0.000</td> <td>    0.703</td> <td>    1.602</td>\n",
       "</tr>\n",
       "<tr>\n",
       "  <th>x1</th>    <td>    1.9534</td> <td>    0.245</td> <td>    7.968</td> <td> 0.000</td> <td>    1.473</td> <td>    2.434</td>\n",
       "</tr>\n",
       "<tr>\n",
       "  <th>alpha</th> <td> 1.392e-05</td> <td>    0.031</td> <td>    0.000</td> <td> 1.000</td> <td>   -0.061</td> <td>    0.061</td>\n",
       "</tr>\n",
       "</table>"
      ],
      "text/plain": [
       "<class 'statsmodels.iolib.summary.Summary'>\n",
       "\"\"\"\n",
       "                     NegativeBinomial Regression Results                      \n",
       "==============================================================================\n",
       "Dep. Variable:                      y   No. Observations:                   12\n",
       "Model:               NegativeBinomial   Df Residuals:                       10\n",
       "Method:                           MLE   Df Model:                            1\n",
       "Date:                Wed, 28 Jun 2023   Pseudo R-squ.:                  0.2902\n",
       "Time:                        17:30:44   Log-Likelihood:                -30.510\n",
       "converged:                       True   LL-Null:                       -42.985\n",
       "Covariance Type:            nonrobust   LLR p-value:                 5.882e-07\n",
       "==============================================================================\n",
       "                 coef    std err          z      P>|z|      [0.025      0.975]\n",
       "------------------------------------------------------------------------------\n",
       "const          1.1527      0.229      5.024      0.000       0.703       1.602\n",
       "x1             1.9534      0.245      7.968      0.000       1.473       2.434\n",
       "alpha       1.392e-05      0.031      0.000      1.000      -0.061       0.061\n",
       "==============================================================================\n",
       "\"\"\""
      ]
     },
     "execution_count": 86,
     "metadata": {},
     "output_type": "execute_result"
    }
   ],
   "source": [
    "%%time\n",
    "discrete.NegativeBinomial(endog=Y, exog=X).fit().summary()"
   ]
  },
  {
   "cell_type": "code",
   "execution_count": 83,
   "id": "706dc6c1-16ee-4e42-87f8-8e40d10fd317",
   "metadata": {},
   "outputs": [
    {
     "name": "stdout",
     "output_type": "stream",
     "text": [
      "CPU times: user 4.34 ms, sys: 0 ns, total: 4.34 ms\n",
      "Wall time: 3.94 ms\n"
     ]
    },
    {
     "data": {
      "text/html": [
       "<table class=\"simpletable\">\n",
       "<caption>Generalized Linear Model Regression Results</caption>\n",
       "<tr>\n",
       "  <th>Dep. Variable:</th>           <td>y</td>        <th>  No. Observations:  </th>  <td>    12</td> \n",
       "</tr>\n",
       "<tr>\n",
       "  <th>Model:</th>                  <td>GLM</td>       <th>  Df Residuals:      </th>  <td>    10</td> \n",
       "</tr>\n",
       "<tr>\n",
       "  <th>Model Family:</th>         <td>Poisson</td>     <th>  Df Model:          </th>  <td>     1</td> \n",
       "</tr>\n",
       "<tr>\n",
       "  <th>Link Function:</th>          <td>Log</td>       <th>  Scale:             </th> <td>  1.0000</td>\n",
       "</tr>\n",
       "<tr>\n",
       "  <th>Method:</th>                <td>IRLS</td>       <th>  Log-Likelihood:    </th> <td> -26.868</td>\n",
       "</tr>\n",
       "<tr>\n",
       "  <th>Date:</th>            <td>Wed, 28 Jun 2023</td> <th>  Deviance:          </th> <td>  7.2673</td>\n",
       "</tr>\n",
       "<tr>\n",
       "  <th>Time:</th>                <td>17:26:39</td>     <th>  Pearson chi2:      </th>  <td>  6.99</td> \n",
       "</tr>\n",
       "<tr>\n",
       "  <th>No. Iterations:</th>          <td>5</td>        <th>  Pseudo R-squ. (CS):</th>  <td>0.9995</td> \n",
       "</tr>\n",
       "<tr>\n",
       "  <th>Covariance Type:</th>     <td>nonrobust</td>    <th>                     </th>     <td> </td>   \n",
       "</tr>\n",
       "</table>\n",
       "<table class=\"simpletable\">\n",
       "<tr>\n",
       "    <td></td>       <th>coef</th>     <th>std err</th>      <th>z</th>      <th>P>|z|</th>  <th>[0.025</th>    <th>0.975]</th>  \n",
       "</tr>\n",
       "<tr>\n",
       "  <th>const</th> <td>    1.0173</td> <td>    0.252</td> <td>    4.032</td> <td> 0.000</td> <td>    0.523</td> <td>    1.512</td>\n",
       "</tr>\n",
       "<tr>\n",
       "  <th>x1</th>    <td>    2.0166</td> <td>    0.267</td> <td>    7.554</td> <td> 0.000</td> <td>    1.493</td> <td>    2.540</td>\n",
       "</tr>\n",
       "</table>"
      ],
      "text/plain": [
       "<class 'statsmodels.iolib.summary.Summary'>\n",
       "\"\"\"\n",
       "                 Generalized Linear Model Regression Results                  \n",
       "==============================================================================\n",
       "Dep. Variable:                      y   No. Observations:                   12\n",
       "Model:                            GLM   Df Residuals:                       10\n",
       "Model Family:                 Poisson   Df Model:                            1\n",
       "Link Function:                    Log   Scale:                          1.0000\n",
       "Method:                          IRLS   Log-Likelihood:                -26.868\n",
       "Date:                Wed, 28 Jun 2023   Deviance:                       7.2673\n",
       "Time:                        17:26:39   Pearson chi2:                     6.99\n",
       "No. Iterations:                     5   Pseudo R-squ. (CS):             0.9995\n",
       "Covariance Type:            nonrobust                                         \n",
       "==============================================================================\n",
       "                 coef    std err          z      P>|z|      [0.025      0.975]\n",
       "------------------------------------------------------------------------------\n",
       "const          1.0173      0.252      4.032      0.000       0.523       1.512\n",
       "x1             2.0166      0.267      7.554      0.000       1.493       2.540\n",
       "==============================================================================\n",
       "\"\"\""
      ]
     },
     "execution_count": 83,
     "metadata": {},
     "output_type": "execute_result"
    }
   ],
   "source": [
    "%%time\n",
    "weights = stats.norm.rvs(loc=10, scale=2,size=12)\n",
    "weights /= weights.mean()\n",
    "weighted_model = sm.GLM(endog=Y, exog=X, family=sm.families.Poisson(), var_weights=weights).fit()\n",
    "weighted_model.summary()"
   ]
  },
  {
   "cell_type": "code",
   "execution_count": 84,
   "id": "80b5c1c5-01dc-40e7-b658-4306357c7463",
   "metadata": {},
   "outputs": [
    {
     "name": "stdout",
     "output_type": "stream",
     "text": [
      "CPU times: user 485 µs, sys: 4.4 ms, total: 4.89 ms\n",
      "Wall time: 4.45 ms\n"
     ]
    },
    {
     "data": {
      "text/html": [
       "<table class=\"simpletable\">\n",
       "<caption>Generalized Linear Model Regression Results</caption>\n",
       "<tr>\n",
       "  <th>Dep. Variable:</th>           <td>y</td>        <th>  No. Observations:  </th>  <td>    12</td> \n",
       "</tr>\n",
       "<tr>\n",
       "  <th>Model:</th>                  <td>GLM</td>       <th>  Df Residuals:      </th>  <td>    10</td> \n",
       "</tr>\n",
       "<tr>\n",
       "  <th>Model Family:</th>    <td>NegativeBinomial</td> <th>  Df Model:          </th>  <td>     1</td> \n",
       "</tr>\n",
       "<tr>\n",
       "  <th>Link Function:</th>          <td>Log</td>       <th>  Scale:             </th> <td>  1.0000</td>\n",
       "</tr>\n",
       "<tr>\n",
       "  <th>Method:</th>                <td>IRLS</td>       <th>  Log-Likelihood:    </th> <td> -36.263</td>\n",
       "</tr>\n",
       "<tr>\n",
       "  <th>Date:</th>            <td>Wed, 28 Jun 2023</td> <th>  Deviance:          </th> <td>  1.6960</td>\n",
       "</tr>\n",
       "<tr>\n",
       "  <th>Time:</th>                <td>17:26:40</td>     <th>  Pearson chi2:      </th>  <td>  1.63</td> \n",
       "</tr>\n",
       "<tr>\n",
       "  <th>No. Iterations:</th>          <td>5</td>        <th>  Pseudo R-squ. (CS):</th>  <td>0.5707</td> \n",
       "</tr>\n",
       "<tr>\n",
       "  <th>Covariance Type:</th>     <td>nonrobust</td>    <th>                     </th>     <td> </td>   \n",
       "</tr>\n",
       "</table>\n",
       "<table class=\"simpletable\">\n",
       "<tr>\n",
       "    <td></td>       <th>coef</th>     <th>std err</th>      <th>z</th>      <th>P>|z|</th>  <th>[0.025</th>    <th>0.975]</th>  \n",
       "</tr>\n",
       "<tr>\n",
       "  <th>const</th> <td>    0.8993</td> <td>    0.476</td> <td>    1.888</td> <td> 0.059</td> <td>   -0.034</td> <td>    1.833</td>\n",
       "</tr>\n",
       "<tr>\n",
       "  <th>x1</th>    <td>    2.1066</td> <td>    0.639</td> <td>    3.299</td> <td> 0.001</td> <td>    0.855</td> <td>    3.358</td>\n",
       "</tr>\n",
       "</table>"
      ],
      "text/plain": [
       "<class 'statsmodels.iolib.summary.Summary'>\n",
       "\"\"\"\n",
       "                 Generalized Linear Model Regression Results                  \n",
       "==============================================================================\n",
       "Dep. Variable:                      y   No. Observations:                   12\n",
       "Model:                            GLM   Df Residuals:                       10\n",
       "Model Family:        NegativeBinomial   Df Model:                            1\n",
       "Link Function:                    Log   Scale:                          1.0000\n",
       "Method:                          IRLS   Log-Likelihood:                -36.263\n",
       "Date:                Wed, 28 Jun 2023   Deviance:                       1.6960\n",
       "Time:                        17:26:40   Pearson chi2:                     1.63\n",
       "No. Iterations:                     5   Pseudo R-squ. (CS):             0.5707\n",
       "Covariance Type:            nonrobust                                         \n",
       "==============================================================================\n",
       "                 coef    std err          z      P>|z|      [0.025      0.975]\n",
       "------------------------------------------------------------------------------\n",
       "const          0.8993      0.476      1.888      0.059      -0.034       1.833\n",
       "x1             2.1066      0.639      3.299      0.001       0.855       3.358\n",
       "==============================================================================\n",
       "\"\"\""
      ]
     },
     "execution_count": 84,
     "metadata": {},
     "output_type": "execute_result"
    }
   ],
   "source": [
    "%%time\n",
    "weights = stats.norm.rvs(loc=10, scale=2,size=12)\n",
    "weights /= weights.mean()\n",
    "weighted_model = sm.GLM(endog=Y, exog=X, family=sm.families.NegativeBinomial(), var_weights=weights).fit()\n",
    "weighted_model.summary()"
   ]
  },
  {
   "cell_type": "code",
   "execution_count": 72,
   "id": "c56cf4a7-eae3-454d-8b14-417557bace14",
   "metadata": {},
   "outputs": [
    {
     "data": {
      "text/plain": [
       "-37.159871451123635"
      ]
     },
     "execution_count": 72,
     "metadata": {},
     "output_type": "execute_result"
    }
   ],
   "source": [
    "sm.GLM(endog=Y, exog=X, family=sm.families.NegativeBinomial()).loglike(weighted_model.params)"
   ]
  },
  {
   "cell_type": "code",
   "execution_count": 69,
   "id": "79c007d5-df56-452e-9241-695296afb5f5",
   "metadata": {},
   "outputs": [
    {
     "data": {
      "text/plain": [
       "<statsmodels.genmod.generalized_linear_model.GLMResultsWrapper at 0x7f587f627c40>"
      ]
     },
     "execution_count": 69,
     "metadata": {},
     "output_type": "execute_result"
    }
   ],
   "source": [
    "weighted_model.loglike"
   ]
  },
  {
   "cell_type": "markdown",
   "id": "3d287f62-df4c-4bbe-83bd-1729cccd0809",
   "metadata": {},
   "source": [
    "### Generate multi-index Pandas DataFrame"
   ]
  },
  {
   "cell_type": "code",
   "execution_count": null,
   "id": "c85cd648-a0eb-4ab1-8696-3348f9729c29",
   "metadata": {},
   "outputs": [
    {
     "data": {
      "text/plain": [
       "AnnData object with n_obs × n_vars = 69958 × 36601\n",
       "    obs: 'NUM.SNPS', 'BEST.GUESS', 'DROPLET.TYPE', 'batch', 'HTO_classification', 'condition', 'donor', 'stim', 'time', 'n_genes', 'n_genes_by_counts', 'total_counts', 'total_counts_mt', 'pct_counts_mt', 'leiden', 'cell_type'\n",
       "    var: 'gene_ids', 'feature_types', 'genome', 'mt', 'n_cells_by_counts', 'mean_counts', 'pct_dropout_by_counts', 'total_counts'"
      ]
     },
     "execution_count": 13,
     "metadata": {},
     "output_type": "execute_result"
    }
   ],
   "source": [
    "adata"
   ]
  },
  {
   "cell_type": "markdown",
   "id": "1bb47f26-c0a9-4fb0-92f4-e8bb6efa3b94",
   "metadata": {},
   "source": [
    "### Toy HBEC dataset"
   ]
  },
  {
   "cell_type": "code",
   "execution_count": 1,
   "id": "eb43b888-e139-4af4-8c2e-ac8e84eccdfe",
   "metadata": {},
   "outputs": [
    {
     "ename": "NameError",
     "evalue": "name 'sc' is not defined",
     "output_type": "error",
     "traceback": [
      "\u001b[0;31m---------------------------------------------------------------------------\u001b[0m",
      "\u001b[0;31mNameError\u001b[0m                                 Traceback (most recent call last)",
      "Cell \u001b[0;32mIn[1], line 1\u001b[0m\n\u001b[0;32m----> 1\u001b[0m adata \u001b[38;5;241m=\u001b[39m \u001b[43msc\u001b[49m\u001b[38;5;241m.\u001b[39mread(data_path \u001b[38;5;241m+\u001b[39m \u001b[38;5;124m'\u001b[39m\u001b[38;5;124mhbec/HBEC_type_I_filtered_counts_deep.h5ad\u001b[39m\u001b[38;5;124m'\u001b[39m)\n",
      "\u001b[0;31mNameError\u001b[0m: name 'sc' is not defined"
     ]
    }
   ],
   "source": [
    "adata = sc.read(data_path + 'hbec/HBEC_type_I_filtered_counts_deep.h5ad')"
   ]
  },
  {
   "cell_type": "code",
   "execution_count": 66,
   "id": "b45b9ae0-b5d1-4404-b6ab-72ac20607b5a",
   "metadata": {},
   "outputs": [],
   "source": [
    "mean_filter = adata.X.mean(axis=0).A1>0.5\n",
    "mt_filter  =~adata.var.index.str.contains('MT-')\n",
    "gene_filter = mean_filter & mt_filter"
   ]
  },
  {
   "cell_type": "code",
   "execution_count": 67,
   "id": "54bd9cd7-f77b-44d1-bc11-9b678bf9ccff",
   "metadata": {},
   "outputs": [],
   "source": [
    "adata = adata[\n",
    "    (adata.obs['donor'] == 'd2513') &\\\n",
    "    adata.obs['stim'].isin(['control', 'beta']) & \\\n",
    "    adata.obs['cell_type'].isin(['ciliated']), gene_filter]"
   ]
  },
  {
   "cell_type": "code",
   "execution_count": 69,
   "id": "71f26ded-5de0-45c3-95f7-bce690a92b1f",
   "metadata": {},
   "outputs": [],
   "source": [
    "adata.write('toy_hbec.h5ad')"
   ]
  }
 ],
 "metadata": {
  "kernelspec": {
   "display_name": "Python (single_cell)",
   "language": "python",
   "name": "single_cell"
  },
  "language_info": {
   "codemirror_mode": {
    "name": "ipython",
    "version": 3
   },
   "file_extension": ".py",
   "mimetype": "text/x-python",
   "name": "python",
   "nbconvert_exporter": "python",
   "pygments_lexer": "ipython3",
   "version": "3.10.11"
  }
 },
 "nbformat": 4,
 "nbformat_minor": 5
}
