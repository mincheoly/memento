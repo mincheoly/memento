{
 "cells": [
  {
   "cell_type": "markdown",
   "id": "40bab305-7e7b-43e9-b50f-9f8ab55cbf97",
   "metadata": {},
   "source": [
    "# Implementation\n"
   ]
  },
  {
   "cell_type": "code",
   "execution_count": 1,
   "id": "1147bfbf-e294-4915-bed1-d4fc597ba671",
   "metadata": {},
   "outputs": [],
   "source": [
    "%load_ext autoreload"
   ]
  },
  {
   "cell_type": "code",
   "execution_count": 2,
   "id": "94976ec3-b481-49bc-8a54-daacb02c30d7",
   "metadata": {},
   "outputs": [],
   "source": [
    "%autoreload 2\n"
   ]
  },
  {
   "cell_type": "code",
   "execution_count": 3,
   "id": "4790b562-7a32-4352-8429-d3fe948a307d",
   "metadata": {},
   "outputs": [],
   "source": [
    "import sys\n",
    "sys.path.append('/home/ssm-user/Github/memento')"
   ]
  },
  {
   "cell_type": "code",
   "execution_count": 4,
   "id": "4c449f09-bbc2-4f82-8ec8-73312efdbb7d",
   "metadata": {},
   "outputs": [],
   "source": [
    "import scanpy as sc\n",
    "import scipy.stats as stats\n",
    "import scipy.sparse as sparse\n",
    "import pandas as pd\n",
    "import numpy as np\n",
    "import string\n",
    "import random\n",
    "import logging"
   ]
  },
  {
   "cell_type": "code",
   "execution_count": 5,
   "id": "fd5ad0ab-dc99-468f-b68a-53d900ea965d",
   "metadata": {},
   "outputs": [],
   "source": [
    "import memento"
   ]
  },
  {
   "cell_type": "code",
   "execution_count": 6,
   "id": "476448fd-509d-45c5-ba4e-d0462339668f",
   "metadata": {},
   "outputs": [],
   "source": [
    "from memento import model"
   ]
  },
  {
   "cell_type": "code",
   "execution_count": 8,
   "id": "29e02c85-6087-415a-a98c-d8fd83d04ee1",
   "metadata": {},
   "outputs": [],
   "source": [
    "import memento.model.rna as rna\n",
    "import memento.estimator.hypergeometric as hg"
   ]
  },
  {
   "cell_type": "code",
   "execution_count": 9,
   "id": "f434fd26-f430-47a8-b854-8736f03033f4",
   "metadata": {},
   "outputs": [],
   "source": [
    "data_path = '/data_volume/memento/'"
   ]
  },
  {
   "cell_type": "markdown",
   "id": "770c52cc-388c-48ff-b293-c854c498bb96",
   "metadata": {},
   "source": [
    "### Read some data"
   ]
  },
  {
   "cell_type": "code",
   "execution_count": 46,
   "id": "a1e95ec9-9e5c-460c-9073-c931cdbbf55d",
   "metadata": {},
   "outputs": [],
   "source": [
    "adata = sc.read(data_path + 'hbec/HBEC_type_I_filtered_counts_deep.h5ad')\n",
    "adata.obs['q'] = 0.07"
   ]
  },
  {
   "cell_type": "code",
   "execution_count": 58,
   "id": "ec8dbbfd-260b-493f-af1c-51009866c7d1",
   "metadata": {},
   "outputs": [],
   "source": [
    "logging.basicConfig(\n",
    "    format=\"%(asctime)s %(process)-7s %(levelname)-8s %(message)s\",\n",
    "    level=logging.INFO, \n",
    "    datefmt=\"%Y-%m-%d %H:%M:%S\",\n",
    ")\n",
    "logging.captureWarnings(True)"
   ]
  },
  {
   "cell_type": "code",
   "execution_count": 61,
   "id": "e87fd159-f535-41c5-8e88-34189bb18a8b",
   "metadata": {},
   "outputs": [
    {
     "name": "stderr",
     "output_type": "stream",
     "text": [
      "2023-06-23 16:48:21 62124   INFO     setup_anndata: creating groups\n",
      "2023-06-23 16:48:21 62124   INFO     setup_anndata: computing cell sizes\n"
     ]
    }
   ],
   "source": [
    "rna.MementoRNA.setup_anndata(\n",
    "    adata=adata,\n",
    "    q_column='q',\n",
    "    label_columns=['donor', 'stim'])"
   ]
  },
  {
   "cell_type": "code",
   "execution_count": 62,
   "id": "16f6c4b2-c4a0-4555-ab16-243a338110d1",
   "metadata": {},
   "outputs": [],
   "source": [
    "adata.layers['count'] = adata.X"
   ]
  },
  {
   "cell_type": "code",
   "execution_count": 63,
   "id": "bc500aac-5023-449e-9749-86eba0270256",
   "metadata": {},
   "outputs": [],
   "source": [
    "adata = adata[adata.obs['stim'] == 'control']"
   ]
  },
  {
   "cell_type": "code",
   "execution_count": 64,
   "id": "ec132b5b-3e2e-49e0-8d2d-8de2ac37b553",
   "metadata": {},
   "outputs": [],
   "source": [
    "sf = adata.obs['memento_size_factor'].values"
   ]
  },
  {
   "cell_type": "code",
   "execution_count": 65,
   "id": "a8719c43-67f3-45a5-9400-b98e3cf95537",
   "metadata": {},
   "outputs": [
    {
     "data": {
      "text/plain": [
       "<2360x36601 sparse matrix of type '<class 'numpy.float32'>'\n",
       "\twith 8171073 stored elements in Compressed Sparse Row format>"
      ]
     },
     "execution_count": 65,
     "metadata": {},
     "output_type": "execute_result"
    }
   ],
   "source": [
    "adata.X"
   ]
  },
  {
   "cell_type": "code",
   "execution_count": 70,
   "id": "c00a984b-a37d-4709-92a4-26fa888649b3",
   "metadata": {},
   "outputs": [],
   "source": [
    "row_weight = (1/sf).reshape([-1, 1])"
   ]
  },
  {
   "cell_type": "code",
   "execution_count": null,
   "id": "02a90c94-734b-44a9-bb74-bff0e5a6d350",
   "metadata": {},
   "outputs": [],
   "source": []
  },
  {
   "cell_type": "code",
   "execution_count": 107,
   "id": "0f73000f-c1be-40b7-aa50-3d806a84d8bd",
   "metadata": {},
   "outputs": [],
   "source": [
    "model = rna.MementoRNA(adata=adata)"
   ]
  },
  {
   "cell_type": "code",
   "execution_count": 111,
   "id": "c4e788a6-8682-47b6-a76a-4f77bb44319b",
   "metadata": {},
   "outputs": [],
   "source": [
    "model.compute_estimate(estimator=['mean', 'sem'], gene_list=['STAT1', 'ACTB'])"
   ]
  },
  {
   "cell_type": "code",
   "execution_count": 113,
   "id": "0979f72c-3240-49f2-adf4-1ec28538fa3d",
   "metadata": {},
   "outputs": [
    {
     "data": {
      "text/html": [
       "<div>\n",
       "<style scoped>\n",
       "    .dataframe tbody tr th:only-of-type {\n",
       "        vertical-align: middle;\n",
       "    }\n",
       "\n",
       "    .dataframe tbody tr th {\n",
       "        vertical-align: top;\n",
       "    }\n",
       "\n",
       "    .dataframe thead th {\n",
       "        text-align: right;\n",
       "    }\n",
       "</style>\n",
       "<table border=\"1\" class=\"dataframe\">\n",
       "  <thead>\n",
       "    <tr style=\"text-align: right;\">\n",
       "      <th></th>\n",
       "      <th>STAT1</th>\n",
       "      <th>ACTB</th>\n",
       "    </tr>\n",
       "  </thead>\n",
       "  <tbody>\n",
       "    <tr>\n",
       "      <th>sg^d2513^control</th>\n",
       "      <td>2.091550e-11</td>\n",
       "      <td>1.919589e-09</td>\n",
       "    </tr>\n",
       "    <tr>\n",
       "      <th>sg^d2614^control</th>\n",
       "      <td>4.122761e-12</td>\n",
       "      <td>9.275180e-10</td>\n",
       "    </tr>\n",
       "  </tbody>\n",
       "</table>\n",
       "</div>"
      ],
      "text/plain": [
       "                         STAT1          ACTB\n",
       "sg^d2513^control  2.091550e-11  1.919589e-09\n",
       "sg^d2614^control  4.122761e-12  9.275180e-10"
      ]
     },
     "execution_count": 113,
     "metadata": {},
     "output_type": "execute_result"
    }
   ],
   "source": [
    "model.estimates['sem']"
   ]
  },
  {
   "cell_type": "code",
   "execution_count": 72,
   "id": "6d0d384c-f43f-4d38-91b5-b4834c9b9574",
   "metadata": {},
   "outputs": [
    {
     "data": {
      "text/plain": [
       "(2360, 1)"
      ]
     },
     "execution_count": 72,
     "metadata": {},
     "output_type": "execute_result"
    }
   ],
   "source": [
    "row_weight.shape"
   ]
  },
  {
   "cell_type": "code",
   "execution_count": 73,
   "id": "8934df10-1b47-4853-a6d0-2fc7feae2486",
   "metadata": {},
   "outputs": [
    {
     "data": {
      "text/plain": [
       "(2360, 36601)"
      ]
     },
     "execution_count": 73,
     "metadata": {},
     "output_type": "execute_result"
    }
   ],
   "source": [
    "adata.X.shape"
   ]
  },
  {
   "cell_type": "markdown",
   "id": "3d287f62-df4c-4bbe-83bd-1729cccd0809",
   "metadata": {},
   "source": [
    "### Generate multi-index Pandas DataFrame"
   ]
  },
  {
   "cell_type": "code",
   "execution_count": null,
   "id": "c85cd648-a0eb-4ab1-8696-3348f9729c29",
   "metadata": {},
   "outputs": [
    {
     "data": {
      "text/plain": [
       "AnnData object with n_obs × n_vars = 69958 × 36601\n",
       "    obs: 'NUM.SNPS', 'BEST.GUESS', 'DROPLET.TYPE', 'batch', 'HTO_classification', 'condition', 'donor', 'stim', 'time', 'n_genes', 'n_genes_by_counts', 'total_counts', 'total_counts_mt', 'pct_counts_mt', 'leiden', 'cell_type'\n",
       "    var: 'gene_ids', 'feature_types', 'genome', 'mt', 'n_cells_by_counts', 'mean_counts', 'pct_dropout_by_counts', 'total_counts'"
      ]
     },
     "execution_count": 13,
     "metadata": {},
     "output_type": "execute_result"
    }
   ],
   "source": [
    "adata"
   ]
  }
 ],
 "metadata": {
  "kernelspec": {
   "display_name": "Python (single_cell)",
   "language": "python",
   "name": "single_cell"
  },
  "language_info": {
   "codemirror_mode": {
    "name": "ipython",
    "version": 3
   },
   "file_extension": ".py",
   "mimetype": "text/x-python",
   "name": "python",
   "nbconvert_exporter": "python",
   "pygments_lexer": "ipython3",
   "version": "3.10.11"
  }
 },
 "nbformat": 4,
 "nbformat_minor": 5
}
